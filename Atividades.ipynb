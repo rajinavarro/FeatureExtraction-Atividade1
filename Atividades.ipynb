{
 "cells": [
  {
   "cell_type": "markdown",
   "metadata": {},
   "source": [
    "Atividades\n",
    "===\n",
    "\n",
    "Essas atividade são relativas a aulas de extração de atributos e selecão de atributos. \n",
    "- Link para video: https://drive.google.com/file/d/13LLQGLt7QsjKshBXgUdJ4RVOT8N252cU/view\n",
    "- Link para apresentação: https://docs.google.com/presentation/d/1wctFgQe7TSlBEypZbVQqqsfrnpSgOeXPSO-mCJ6jIz4\n",
    "\n",
    "\n",
    "> Lembre de criar uma `virtualenv` com os `requirements.txt` do repositório.\n",
    "\n",
    "> Lembre de criar uma `kernel` do jupyter para seus desenvolvimentos\n",
    "\n",
    "> **MANTENHA** essa arquivo no local padrão do repositório. Detro da pasta **feature_extraction_and_feature_selection**.\n",
    "\n",
    "> Enviei apenas o seu notebook para correção. Não é necessário enviar nenhum outro arquivo. Siga o padrão `Atividades-<NOME-DO-ALUNO>.ipynb`"
   ]
  },
  {
   "cell_type": "markdown",
   "metadata": {},
   "source": [
    "# Feature Extraction"
   ]
  },
  {
   "cell_type": "markdown",
   "metadata": {},
   "source": [
    "## 1. Realizar a extração de atributos utilzando as técnicas Fourier e HOS nas bases de dados"
   ]
  },
  {
   "cell_type": "markdown",
   "metadata": {},
   "source": [
    "- Dados de falhas em aerogeradores\n",
    "\n",
    "As orientações abaixo devem ser seguidas antes de iniciar os trabalhos\n",
    "\n",
    "> Todo os arquivos nomeados com `v000_ ... .csv` são referentes a essa base.\n",
    "\n",
    "> A classe referente ao dado está representada por uma TAG no nome do arquivo da seguinte forma: `v000_NORMAL_ ... .csv` é o dado referente a classe de funcionamento normal do gerador. A TAG `v000_SC_LI_LVL3_ ... .csv` é a classe referente a falha tipo 1 e continua. Não se preocupem com a ordem de enumeração das classes nesse momento.\n",
    "\n",
    "> Há 5 arquivos na pasta.\n",
    "\n",
    "> Utilizar as colunas a `Current_R`, `Current_S`, `Current_T` para realizar extração de atributos. Perceba que cada coluna é referente a uma sinal de corrente elétrica, portanto cada um são representados vetores de dimensões $1x50000$.\n",
    "\n",
    "> Antes de realizar a extração de atributos deve-se dividir cada sinal em 10 partes de tamanho $1x5000$. A ideia aqui é aumentar o número de amostra da base de dados por 10. Pense que cada parte é um recorte do sinal, e ao serem concatenadas retornarão o sinal original."
   ]
  },
  {
   "cell_type": "markdown",
   "metadata": {},
   "source": [
    "# Imports"
   ]
  },
  {
   "cell_type": "code",
   "execution_count": 32,
   "metadata": {},
   "outputs": [],
   "source": [
    "import pandas as pd\n",
    "import numpy as np\n",
    "import matplotlib.pyplot as plt\n",
    "from os import path"
   ]
  },
  {
   "cell_type": "code",
   "execution_count": 33,
   "metadata": {},
   "outputs": [],
   "source": [
    "DATAFOLDER = path.join('data')\n",
    "DATAFILES = [\n",
    "    'v000_FAULT_SC_HI_LVL2_FR6000_FG5942_L000_0,6IN_SENSORC.csv',\n",
    "    'v000_FAULT_SC_LI_LVL3_FR4500_FG4365_L000_0,8IN_SENSORC.csv',\n",
    "    'v000_FAULT_SC_LI_LVL3_FR6000_FG5927_L000_0,4IN_SENSORC.csv',\n",
    "    'v000_NORMAL_FR4500_FG4385_L000_1,0IN_SENSORC.csv',\n",
    "    'v000_NORMAL_FR6000_FG5955_L000_0,5IN_SENSORC.csv'\n",
    "]"
   ]
  },
  {
   "cell_type": "markdown",
   "metadata": {},
   "source": [
    "### Carregue a base"
   ]
  },
  {
   "cell_type": "code",
   "execution_count": 34,
   "metadata": {},
   "outputs": [],
   "source": [
    "df_falha_1 = pd.read_csv(path.join(DATAFOLDER, DATAFILES[0]))\n",
    "df_falha_2 = pd.read_csv(path.join(DATAFOLDER, DATAFILES[1]))\n",
    "df_falha_3 = pd.read_csv(path.join(DATAFOLDER, DATAFILES[2]))"
   ]
  },
  {
   "cell_type": "code",
   "execution_count": 35,
   "metadata": {},
   "outputs": [],
   "source": [
    "df_normal_1 = pd.read_csv(path.join(DATAFOLDER, DATAFILES[3]))\n",
    "df_normal_2 = pd.read_csv(path.join(DATAFOLDER, DATAFILES[4]))"
   ]
  },
  {
   "cell_type": "code",
   "execution_count": 196,
   "metadata": {},
   "outputs": [],
   "source": [
    "DATAFRAMES = [df_falha_1,df_falha_2, df_falha_3, df_normal_1, df_normal_2]"
   ]
  },
  {
   "cell_type": "markdown",
   "metadata": {},
   "source": [
    "### a) Comparativo da média do sinal e sua distribuição\n",
    "\n",
    "- Realize o calculo da média e desvio padrão em cada um dos sinais e exiba o print(falha_1)\n",
    "df_falha_1.head()resultado em um dataframe. Discuta suas conclusões.\n",
    "\n",
    "**help**: utilize as funcões nativas do numpy ou do pandas. Lembre que o sinal é uma senoide, qual a média em uma senoide simétrica?"
   ]
  },
  {
   "cell_type": "markdown",
   "metadata": {},
   "source": [
    "## Calculando Médias e Desvio Padrão das Correntes"
   ]
  },
  {
   "cell_type": "code",
   "execution_count": 107,
   "metadata": {},
   "outputs": [],
   "source": [
    "def split_df(df):\n",
    "    mean_current_R_falha_1 = []\n",
    "    mean_current_S_falha_1 = []\n",
    "    mean_current_T_falha_1 = []\n",
    "\n",
    "    std_current_R_falha_1 = []\n",
    "    std_current_S_falha_1 = []\n",
    "    std_current_T_falha_1 = []\n",
    "\n",
    "    for index in range(0,50000,5000):\n",
    "\n",
    "        mean_current_R_falha_1.append((df.Current_R[index:index+5001].max() * 2) / np.pi)\n",
    "        mean_current_S_falha_1.append((df.Current_S[index:index+5001].max() * 2) / np.pi)\n",
    "        mean_current_T_falha_1.append((df.Current_T[index:index+5001].max() * 2) / np.pi)\n",
    "\n",
    "        std_current_R_falha_1.append(df.Current_R[index:index+5001].std())\n",
    "        std_current_S_falha_1.append(df.Current_R[index:index+5001].std())\n",
    "        std_current_T_falha_1.append(df.Current_R[index:index+5001].std())\n",
    "\n",
    "    data = {'mean_current_r':mean_current_R_falha_1,\n",
    "            'mean_current_s': mean_current_S_falha_1,\n",
    "            'mean_current_t': mean_current_T_falha_1, \n",
    "            'std_current_r': std_current_R_falha_1,\n",
    "            'std_current_s':std_current_S_falha_1, \n",
    "            'std_current_t':std_current_T_falha_1}\n",
    "    res_df = pd.DataFrame(data=data)\n",
    "    return res_df"
   ]
  },
  {
   "cell_type": "code",
   "execution_count": 108,
   "metadata": {
    "scrolled": false
   },
   "outputs": [],
   "source": [
    "dataframes = [df_falha_1, df_falha_2, df_falha_3, df_normal_1, df_normal_2]\n",
    "df_mean_std = []\n",
    "for index in dataframes:\n",
    "    df_mean_std.append(split_df(index))\n"
   ]
  },
  {
   "cell_type": "markdown",
   "metadata": {},
   "source": [
    "# Samples"
   ]
  },
  {
   "cell_type": "markdown",
   "metadata": {},
   "source": [
    "#### v000_FAULT_SC_HI_LVL2_FR6000_FG5942_L000_0,6IN_SENSORC.csv"
   ]
  },
  {
   "cell_type": "code",
   "execution_count": 109,
   "metadata": {},
   "outputs": [
    {
     "data": {
      "text/html": [
       "<div>\n",
       "<style scoped>\n",
       "    .dataframe tbody tr th:only-of-type {\n",
       "        vertical-align: middle;\n",
       "    }\n",
       "\n",
       "    .dataframe tbody tr th {\n",
       "        vertical-align: top;\n",
       "    }\n",
       "\n",
       "    .dataframe thead th {\n",
       "        text-align: right;\n",
       "    }\n",
       "</style>\n",
       "<table border=\"1\" class=\"dataframe\">\n",
       "  <thead>\n",
       "    <tr style=\"text-align: right;\">\n",
       "      <th></th>\n",
       "      <th>mean_current_r</th>\n",
       "      <th>mean_current_s</th>\n",
       "      <th>mean_current_t</th>\n",
       "      <th>std_current_r</th>\n",
       "      <th>std_current_s</th>\n",
       "      <th>std_current_t</th>\n",
       "    </tr>\n",
       "  </thead>\n",
       "  <tbody>\n",
       "    <tr>\n",
       "      <th>0</th>\n",
       "      <td>1.707599</td>\n",
       "      <td>1.594273</td>\n",
       "      <td>1.726808</td>\n",
       "      <td>1.291680</td>\n",
       "      <td>1.291680</td>\n",
       "      <td>1.291680</td>\n",
       "    </tr>\n",
       "    <tr>\n",
       "      <th>1</th>\n",
       "      <td>1.675197</td>\n",
       "      <td>1.958834</td>\n",
       "      <td>1.710607</td>\n",
       "      <td>1.297518</td>\n",
       "      <td>1.297518</td>\n",
       "      <td>1.297518</td>\n",
       "    </tr>\n",
       "    <tr>\n",
       "      <th>2</th>\n",
       "      <td>1.577991</td>\n",
       "      <td>1.837313</td>\n",
       "      <td>1.305573</td>\n",
       "      <td>1.295065</td>\n",
       "      <td>1.295065</td>\n",
       "      <td>1.295065</td>\n",
       "    </tr>\n",
       "    <tr>\n",
       "      <th>3</th>\n",
       "      <td>1.480786</td>\n",
       "      <td>1.472753</td>\n",
       "      <td>2.391064</td>\n",
       "      <td>1.294433</td>\n",
       "      <td>1.294433</td>\n",
       "      <td>1.294433</td>\n",
       "    </tr>\n",
       "    <tr>\n",
       "      <th>4</th>\n",
       "      <td>1.812905</td>\n",
       "      <td>1.918327</td>\n",
       "      <td>2.002231</td>\n",
       "      <td>1.296633</td>\n",
       "      <td>1.296633</td>\n",
       "      <td>1.296633</td>\n",
       "    </tr>\n",
       "    <tr>\n",
       "      <th>5</th>\n",
       "      <td>1.505087</td>\n",
       "      <td>1.845415</td>\n",
       "      <td>1.726808</td>\n",
       "      <td>1.289020</td>\n",
       "      <td>1.289020</td>\n",
       "      <td>1.289020</td>\n",
       "    </tr>\n",
       "    <tr>\n",
       "      <th>6</th>\n",
       "      <td>1.642795</td>\n",
       "      <td>2.007442</td>\n",
       "      <td>1.540493</td>\n",
       "      <td>1.296824</td>\n",
       "      <td>1.296824</td>\n",
       "      <td>1.296824</td>\n",
       "    </tr>\n",
       "    <tr>\n",
       "      <th>7</th>\n",
       "      <td>1.545589</td>\n",
       "      <td>1.918327</td>\n",
       "      <td>1.637701</td>\n",
       "      <td>1.296582</td>\n",
       "      <td>1.296582</td>\n",
       "      <td>1.296582</td>\n",
       "    </tr>\n",
       "    <tr>\n",
       "      <th>8</th>\n",
       "      <td>1.553690</td>\n",
       "      <td>1.707692</td>\n",
       "      <td>2.528775</td>\n",
       "      <td>1.296147</td>\n",
       "      <td>1.296147</td>\n",
       "      <td>1.296147</td>\n",
       "    </tr>\n",
       "    <tr>\n",
       "      <th>9</th>\n",
       "      <td>1.683298</td>\n",
       "      <td>2.112759</td>\n",
       "      <td>1.637701</td>\n",
       "      <td>1.298409</td>\n",
       "      <td>1.298409</td>\n",
       "      <td>1.298409</td>\n",
       "    </tr>\n",
       "  </tbody>\n",
       "</table>\n",
       "</div>"
      ],
      "text/plain": [
       "   mean_current_r  mean_current_s  mean_current_t  std_current_r  \\\n",
       "0        1.707599        1.594273        1.726808       1.291680   \n",
       "1        1.675197        1.958834        1.710607       1.297518   \n",
       "2        1.577991        1.837313        1.305573       1.295065   \n",
       "3        1.480786        1.472753        2.391064       1.294433   \n",
       "4        1.812905        1.918327        2.002231       1.296633   \n",
       "5        1.505087        1.845415        1.726808       1.289020   \n",
       "6        1.642795        2.007442        1.540493       1.296824   \n",
       "7        1.545589        1.918327        1.637701       1.296582   \n",
       "8        1.553690        1.707692        2.528775       1.296147   \n",
       "9        1.683298        2.112759        1.637701       1.298409   \n",
       "\n",
       "   std_current_s  std_current_t  \n",
       "0       1.291680       1.291680  \n",
       "1       1.297518       1.297518  \n",
       "2       1.295065       1.295065  \n",
       "3       1.294433       1.294433  \n",
       "4       1.296633       1.296633  \n",
       "5       1.289020       1.289020  \n",
       "6       1.296824       1.296824  \n",
       "7       1.296582       1.296582  \n",
       "8       1.296147       1.296147  \n",
       "9       1.298409       1.298409  "
      ]
     },
     "execution_count": 109,
     "metadata": {},
     "output_type": "execute_result"
    }
   ],
   "source": [
    "df_mean_std[0]"
   ]
  },
  {
   "cell_type": "markdown",
   "metadata": {},
   "source": [
    "#### v000_FAULT_SC_LI_LVL3_FR4500_FG4365_L000_0,8IN_SENSORC.csv"
   ]
  },
  {
   "cell_type": "code",
   "execution_count": 63,
   "metadata": {},
   "outputs": [
    {
     "data": {
      "text/html": [
       "<div>\n",
       "<style scoped>\n",
       "    .dataframe tbody tr th:only-of-type {\n",
       "        vertical-align: middle;\n",
       "    }\n",
       "\n",
       "    .dataframe tbody tr th {\n",
       "        vertical-align: top;\n",
       "    }\n",
       "\n",
       "    .dataframe thead th {\n",
       "        text-align: right;\n",
       "    }\n",
       "</style>\n",
       "<table border=\"1\" class=\"dataframe\">\n",
       "  <thead>\n",
       "    <tr style=\"text-align: right;\">\n",
       "      <th></th>\n",
       "      <th>mean_current_r</th>\n",
       "      <th>mean_current_s</th>\n",
       "      <th>mean_current_t</th>\n",
       "      <th>std_current_r</th>\n",
       "      <th>std_current_s</th>\n",
       "      <th>std_current_t</th>\n",
       "    </tr>\n",
       "  </thead>\n",
       "  <tbody>\n",
       "    <tr>\n",
       "      <th>0</th>\n",
       "      <td>2.801163</td>\n",
       "      <td>3.846447</td>\n",
       "      <td>3.598065</td>\n",
       "      <td>3.102091</td>\n",
       "      <td>3.102091</td>\n",
       "      <td>3.102091</td>\n",
       "    </tr>\n",
       "    <tr>\n",
       "      <th>1</th>\n",
       "      <td>3.951431</td>\n",
       "      <td>2.906691</td>\n",
       "      <td>3.160628</td>\n",
       "      <td>3.136950</td>\n",
       "      <td>3.136950</td>\n",
       "      <td>3.136950</td>\n",
       "    </tr>\n",
       "    <tr>\n",
       "      <th>2</th>\n",
       "      <td>4.008135</td>\n",
       "      <td>2.906691</td>\n",
       "      <td>3.209232</td>\n",
       "      <td>3.173438</td>\n",
       "      <td>3.173438</td>\n",
       "      <td>3.173438</td>\n",
       "    </tr>\n",
       "    <tr>\n",
       "      <th>3</th>\n",
       "      <td>3.684115</td>\n",
       "      <td>2.971502</td>\n",
       "      <td>3.039118</td>\n",
       "      <td>3.175530</td>\n",
       "      <td>3.175530</td>\n",
       "      <td>3.175530</td>\n",
       "    </tr>\n",
       "    <tr>\n",
       "      <th>4</th>\n",
       "      <td>3.578809</td>\n",
       "      <td>3.295556</td>\n",
       "      <td>3.314541</td>\n",
       "      <td>3.159931</td>\n",
       "      <td>3.159931</td>\n",
       "      <td>3.159931</td>\n",
       "    </tr>\n",
       "    <tr>\n",
       "      <th>5</th>\n",
       "      <td>3.392498</td>\n",
       "      <td>3.344164</td>\n",
       "      <td>3.306440</td>\n",
       "      <td>3.104912</td>\n",
       "      <td>3.104912</td>\n",
       "      <td>3.104912</td>\n",
       "    </tr>\n",
       "    <tr>\n",
       "      <th>6</th>\n",
       "      <td>3.902828</td>\n",
       "      <td>3.287454</td>\n",
       "      <td>3.209232</td>\n",
       "      <td>3.144244</td>\n",
       "      <td>3.144244</td>\n",
       "      <td>3.144244</td>\n",
       "    </tr>\n",
       "    <tr>\n",
       "      <th>7</th>\n",
       "      <td>3.870426</td>\n",
       "      <td>3.165934</td>\n",
       "      <td>2.925708</td>\n",
       "      <td>3.159276</td>\n",
       "      <td>3.159276</td>\n",
       "      <td>3.159276</td>\n",
       "    </tr>\n",
       "    <tr>\n",
       "      <th>8</th>\n",
       "      <td>3.351996</td>\n",
       "      <td>2.930995</td>\n",
       "      <td>2.917608</td>\n",
       "      <td>3.173540</td>\n",
       "      <td>3.173540</td>\n",
       "      <td>3.173540</td>\n",
       "    </tr>\n",
       "    <tr>\n",
       "      <th>9</th>\n",
       "      <td>4.064838</td>\n",
       "      <td>3.093022</td>\n",
       "      <td>3.087722</td>\n",
       "      <td>3.160334</td>\n",
       "      <td>3.160334</td>\n",
       "      <td>3.160334</td>\n",
       "    </tr>\n",
       "  </tbody>\n",
       "</table>\n",
       "</div>"
      ],
      "text/plain": [
       "   mean_current_r  mean_current_s  mean_current_t  std_current_r  \\\n",
       "0        2.801163        3.846447        3.598065       3.102091   \n",
       "1        3.951431        2.906691        3.160628       3.136950   \n",
       "2        4.008135        2.906691        3.209232       3.173438   \n",
       "3        3.684115        2.971502        3.039118       3.175530   \n",
       "4        3.578809        3.295556        3.314541       3.159931   \n",
       "5        3.392498        3.344164        3.306440       3.104912   \n",
       "6        3.902828        3.287454        3.209232       3.144244   \n",
       "7        3.870426        3.165934        2.925708       3.159276   \n",
       "8        3.351996        2.930995        2.917608       3.173540   \n",
       "9        4.064838        3.093022        3.087722       3.160334   \n",
       "\n",
       "   std_current_s  std_current_t  \n",
       "0       3.102091       3.102091  \n",
       "1       3.136950       3.136950  \n",
       "2       3.173438       3.173438  \n",
       "3       3.175530       3.175530  \n",
       "4       3.159931       3.159931  \n",
       "5       3.104912       3.104912  \n",
       "6       3.144244       3.144244  \n",
       "7       3.159276       3.159276  \n",
       "8       3.173540       3.173540  \n",
       "9       3.160334       3.160334  "
      ]
     },
     "execution_count": 63,
     "metadata": {},
     "output_type": "execute_result"
    }
   ],
   "source": [
    "df_mean_std[1]"
   ]
  },
  {
   "cell_type": "markdown",
   "metadata": {},
   "source": [
    "#### v000_FAULT_SC_LI_LVL3_FR6000_FG5927_L000_0,4IN_SENSORC.csv"
   ]
  },
  {
   "cell_type": "code",
   "execution_count": 64,
   "metadata": {},
   "outputs": [
    {
     "data": {
      "text/html": [
       "<div>\n",
       "<style scoped>\n",
       "    .dataframe tbody tr th:only-of-type {\n",
       "        vertical-align: middle;\n",
       "    }\n",
       "\n",
       "    .dataframe tbody tr th {\n",
       "        vertical-align: top;\n",
       "    }\n",
       "\n",
       "    .dataframe thead th {\n",
       "        text-align: right;\n",
       "    }\n",
       "</style>\n",
       "<table border=\"1\" class=\"dataframe\">\n",
       "  <thead>\n",
       "    <tr style=\"text-align: right;\">\n",
       "      <th></th>\n",
       "      <th>mean_current_r</th>\n",
       "      <th>mean_current_s</th>\n",
       "      <th>mean_current_t</th>\n",
       "      <th>std_current_r</th>\n",
       "      <th>std_current_s</th>\n",
       "      <th>std_current_t</th>\n",
       "    </tr>\n",
       "  </thead>\n",
       "  <tbody>\n",
       "    <tr>\n",
       "      <th>0</th>\n",
       "      <td>1.902010</td>\n",
       "      <td>2.396306</td>\n",
       "      <td>1.629600</td>\n",
       "      <td>1.557255</td>\n",
       "      <td>1.557255</td>\n",
       "      <td>1.557255</td>\n",
       "    </tr>\n",
       "    <tr>\n",
       "      <th>1</th>\n",
       "      <td>1.772403</td>\n",
       "      <td>1.440347</td>\n",
       "      <td>1.580996</td>\n",
       "      <td>1.548514</td>\n",
       "      <td>1.548514</td>\n",
       "      <td>1.548514</td>\n",
       "    </tr>\n",
       "    <tr>\n",
       "      <th>2</th>\n",
       "      <td>2.064020</td>\n",
       "      <td>1.602374</td>\n",
       "      <td>1.305573</td>\n",
       "      <td>1.568328</td>\n",
       "      <td>1.568328</td>\n",
       "      <td>1.568328</td>\n",
       "    </tr>\n",
       "    <tr>\n",
       "      <th>3</th>\n",
       "      <td>1.918211</td>\n",
       "      <td>1.804908</td>\n",
       "      <td>1.240768</td>\n",
       "      <td>1.567063</td>\n",
       "      <td>1.567063</td>\n",
       "      <td>1.567063</td>\n",
       "    </tr>\n",
       "    <tr>\n",
       "      <th>4</th>\n",
       "      <td>1.748101</td>\n",
       "      <td>1.440347</td>\n",
       "      <td>2.334359</td>\n",
       "      <td>1.561399</td>\n",
       "      <td>1.561399</td>\n",
       "      <td>1.561399</td>\n",
       "    </tr>\n",
       "    <tr>\n",
       "      <th>5</th>\n",
       "      <td>2.007317</td>\n",
       "      <td>1.780604</td>\n",
       "      <td>1.775412</td>\n",
       "      <td>1.550038</td>\n",
       "      <td>1.550038</td>\n",
       "      <td>1.550038</td>\n",
       "    </tr>\n",
       "    <tr>\n",
       "      <th>6</th>\n",
       "      <td>1.764302</td>\n",
       "      <td>1.521361</td>\n",
       "      <td>1.491889</td>\n",
       "      <td>1.558286</td>\n",
       "      <td>1.558286</td>\n",
       "      <td>1.558286</td>\n",
       "    </tr>\n",
       "    <tr>\n",
       "      <th>7</th>\n",
       "      <td>1.999216</td>\n",
       "      <td>1.918327</td>\n",
       "      <td>1.265070</td>\n",
       "      <td>1.567006</td>\n",
       "      <td>1.567006</td>\n",
       "      <td>1.567006</td>\n",
       "    </tr>\n",
       "    <tr>\n",
       "      <th>8</th>\n",
       "      <td>1.885809</td>\n",
       "      <td>1.610476</td>\n",
       "      <td>1.224567</td>\n",
       "      <td>1.572937</td>\n",
       "      <td>1.572937</td>\n",
       "      <td>1.572937</td>\n",
       "    </tr>\n",
       "    <tr>\n",
       "      <th>9</th>\n",
       "      <td>1.991116</td>\n",
       "      <td>1.553766</td>\n",
       "      <td>2.002231</td>\n",
       "      <td>1.559266</td>\n",
       "      <td>1.559266</td>\n",
       "      <td>1.559266</td>\n",
       "    </tr>\n",
       "  </tbody>\n",
       "</table>\n",
       "</div>"
      ],
      "text/plain": [
       "   mean_current_r  mean_current_s  mean_current_t  std_current_r  \\\n",
       "0        1.902010        2.396306        1.629600       1.557255   \n",
       "1        1.772403        1.440347        1.580996       1.548514   \n",
       "2        2.064020        1.602374        1.305573       1.568328   \n",
       "3        1.918211        1.804908        1.240768       1.567063   \n",
       "4        1.748101        1.440347        2.334359       1.561399   \n",
       "5        2.007317        1.780604        1.775412       1.550038   \n",
       "6        1.764302        1.521361        1.491889       1.558286   \n",
       "7        1.999216        1.918327        1.265070       1.567006   \n",
       "8        1.885809        1.610476        1.224567       1.572937   \n",
       "9        1.991116        1.553766        2.002231       1.559266   \n",
       "\n",
       "   std_current_s  std_current_t  \n",
       "0       1.557255       1.557255  \n",
       "1       1.548514       1.548514  \n",
       "2       1.568328       1.568328  \n",
       "3       1.567063       1.567063  \n",
       "4       1.561399       1.561399  \n",
       "5       1.550038       1.550038  \n",
       "6       1.558286       1.558286  \n",
       "7       1.567006       1.567006  \n",
       "8       1.572937       1.572937  \n",
       "9       1.559266       1.559266  "
      ]
     },
     "execution_count": 64,
     "metadata": {},
     "output_type": "execute_result"
    }
   ],
   "source": [
    "df_mean_std[2]"
   ]
  },
  {
   "cell_type": "markdown",
   "metadata": {},
   "source": [
    "#### v000_NORMAL_FR4500_FG4385_L000_1,0IN_SENSORC.csv"
   ]
  },
  {
   "cell_type": "code",
   "execution_count": 65,
   "metadata": {},
   "outputs": [
    {
     "data": {
      "text/html": [
       "<div>\n",
       "<style scoped>\n",
       "    .dataframe tbody tr th:only-of-type {\n",
       "        vertical-align: middle;\n",
       "    }\n",
       "\n",
       "    .dataframe tbody tr th {\n",
       "        vertical-align: top;\n",
       "    }\n",
       "\n",
       "    .dataframe thead th {\n",
       "        text-align: right;\n",
       "    }\n",
       "</style>\n",
       "<table border=\"1\" class=\"dataframe\">\n",
       "  <thead>\n",
       "    <tr style=\"text-align: right;\">\n",
       "      <th></th>\n",
       "      <th>mean_current_r</th>\n",
       "      <th>mean_current_s</th>\n",
       "      <th>mean_current_t</th>\n",
       "      <th>std_current_r</th>\n",
       "      <th>std_current_s</th>\n",
       "      <th>std_current_t</th>\n",
       "    </tr>\n",
       "  </thead>\n",
       "  <tbody>\n",
       "    <tr>\n",
       "      <th>0</th>\n",
       "      <td>3.473503</td>\n",
       "      <td>3.214542</td>\n",
       "      <td>3.703373</td>\n",
       "      <td>2.919253</td>\n",
       "      <td>2.919253</td>\n",
       "      <td>2.919253</td>\n",
       "    </tr>\n",
       "    <tr>\n",
       "      <th>1</th>\n",
       "      <td>3.643613</td>\n",
       "      <td>3.724927</td>\n",
       "      <td>3.055319</td>\n",
       "      <td>2.914496</td>\n",
       "      <td>2.914496</td>\n",
       "      <td>2.914496</td>\n",
       "    </tr>\n",
       "    <tr>\n",
       "      <th>2</th>\n",
       "      <td>2.793063</td>\n",
       "      <td>4.186704</td>\n",
       "      <td>4.254219</td>\n",
       "      <td>2.868156</td>\n",
       "      <td>2.868156</td>\n",
       "      <td>2.868156</td>\n",
       "    </tr>\n",
       "    <tr>\n",
       "      <th>3</th>\n",
       "      <td>3.481604</td>\n",
       "      <td>3.376569</td>\n",
       "      <td>4.067904</td>\n",
       "      <td>2.909832</td>\n",
       "      <td>2.909832</td>\n",
       "      <td>2.909832</td>\n",
       "    </tr>\n",
       "    <tr>\n",
       "      <th>4</th>\n",
       "      <td>3.457302</td>\n",
       "      <td>3.465684</td>\n",
       "      <td>3.922092</td>\n",
       "      <td>2.914338</td>\n",
       "      <td>2.914338</td>\n",
       "      <td>2.914338</td>\n",
       "    </tr>\n",
       "    <tr>\n",
       "      <th>5</th>\n",
       "      <td>3.514005</td>\n",
       "      <td>3.336062</td>\n",
       "      <td>3.411749</td>\n",
       "      <td>2.912313</td>\n",
       "      <td>2.912313</td>\n",
       "      <td>2.912313</td>\n",
       "    </tr>\n",
       "    <tr>\n",
       "      <th>6</th>\n",
       "      <td>3.335795</td>\n",
       "      <td>3.951765</td>\n",
       "      <td>2.941910</td>\n",
       "      <td>2.920182</td>\n",
       "      <td>2.920182</td>\n",
       "      <td>2.920182</td>\n",
       "    </tr>\n",
       "    <tr>\n",
       "      <th>7</th>\n",
       "      <td>3.133283</td>\n",
       "      <td>4.235312</td>\n",
       "      <td>3.792481</td>\n",
       "      <td>2.879444</td>\n",
       "      <td>2.879444</td>\n",
       "      <td>2.879444</td>\n",
       "    </tr>\n",
       "    <tr>\n",
       "      <th>8</th>\n",
       "      <td>2.938872</td>\n",
       "      <td>3.238846</td>\n",
       "      <td>4.229917</td>\n",
       "      <td>2.906773</td>\n",
       "      <td>2.906773</td>\n",
       "      <td>2.906773</td>\n",
       "    </tr>\n",
       "    <tr>\n",
       "      <th>9</th>\n",
       "      <td>3.433001</td>\n",
       "      <td>3.489988</td>\n",
       "      <td>3.711474</td>\n",
       "      <td>2.921137</td>\n",
       "      <td>2.921137</td>\n",
       "      <td>2.921137</td>\n",
       "    </tr>\n",
       "  </tbody>\n",
       "</table>\n",
       "</div>"
      ],
      "text/plain": [
       "   mean_current_r  mean_current_s  mean_current_t  std_current_r  \\\n",
       "0        3.473503        3.214542        3.703373       2.919253   \n",
       "1        3.643613        3.724927        3.055319       2.914496   \n",
       "2        2.793063        4.186704        4.254219       2.868156   \n",
       "3        3.481604        3.376569        4.067904       2.909832   \n",
       "4        3.457302        3.465684        3.922092       2.914338   \n",
       "5        3.514005        3.336062        3.411749       2.912313   \n",
       "6        3.335795        3.951765        2.941910       2.920182   \n",
       "7        3.133283        4.235312        3.792481       2.879444   \n",
       "8        2.938872        3.238846        4.229917       2.906773   \n",
       "9        3.433001        3.489988        3.711474       2.921137   \n",
       "\n",
       "   std_current_s  std_current_t  \n",
       "0       2.919253       2.919253  \n",
       "1       2.914496       2.914496  \n",
       "2       2.868156       2.868156  \n",
       "3       2.909832       2.909832  \n",
       "4       2.914338       2.914338  \n",
       "5       2.912313       2.912313  \n",
       "6       2.920182       2.920182  \n",
       "7       2.879444       2.879444  \n",
       "8       2.906773       2.906773  \n",
       "9       2.921137       2.921137  "
      ]
     },
     "execution_count": 65,
     "metadata": {},
     "output_type": "execute_result"
    }
   ],
   "source": [
    "df_mean_std[3]"
   ]
  },
  {
   "cell_type": "markdown",
   "metadata": {},
   "source": [
    "#### v000_NORMAL_FR6000_FG5955_L000_0,5IN_SENSORC.csv'"
   ]
  },
  {
   "cell_type": "code",
   "execution_count": 66,
   "metadata": {},
   "outputs": [
    {
     "data": {
      "text/html": [
       "<div>\n",
       "<style scoped>\n",
       "    .dataframe tbody tr th:only-of-type {\n",
       "        vertical-align: middle;\n",
       "    }\n",
       "\n",
       "    .dataframe tbody tr th {\n",
       "        vertical-align: top;\n",
       "    }\n",
       "\n",
       "    .dataframe thead th {\n",
       "        text-align: right;\n",
       "    }\n",
       "</style>\n",
       "<table border=\"1\" class=\"dataframe\">\n",
       "  <thead>\n",
       "    <tr style=\"text-align: right;\">\n",
       "      <th></th>\n",
       "      <th>mean_current_r</th>\n",
       "      <th>mean_current_s</th>\n",
       "      <th>mean_current_t</th>\n",
       "      <th>std_current_r</th>\n",
       "      <th>std_current_s</th>\n",
       "      <th>std_current_t</th>\n",
       "    </tr>\n",
       "  </thead>\n",
       "  <tbody>\n",
       "    <tr>\n",
       "      <th>0</th>\n",
       "      <td>1.375479</td>\n",
       "      <td>1.877820</td>\n",
       "      <td>1.670104</td>\n",
       "      <td>1.183187</td>\n",
       "      <td>1.183187</td>\n",
       "      <td>1.183187</td>\n",
       "    </tr>\n",
       "    <tr>\n",
       "      <th>1</th>\n",
       "      <td>1.999216</td>\n",
       "      <td>2.056050</td>\n",
       "      <td>1.905023</td>\n",
       "      <td>1.181967</td>\n",
       "      <td>1.181967</td>\n",
       "      <td>1.181967</td>\n",
       "    </tr>\n",
       "    <tr>\n",
       "      <th>2</th>\n",
       "      <td>1.577991</td>\n",
       "      <td>1.723895</td>\n",
       "      <td>2.326258</td>\n",
       "      <td>1.189432</td>\n",
       "      <td>1.189432</td>\n",
       "      <td>1.189432</td>\n",
       "    </tr>\n",
       "    <tr>\n",
       "      <th>3</th>\n",
       "      <td>1.480786</td>\n",
       "      <td>1.796807</td>\n",
       "      <td>1.783513</td>\n",
       "      <td>1.188224</td>\n",
       "      <td>1.188224</td>\n",
       "      <td>1.188224</td>\n",
       "    </tr>\n",
       "    <tr>\n",
       "      <th>4</th>\n",
       "      <td>1.796704</td>\n",
       "      <td>1.488956</td>\n",
       "      <td>1.662003</td>\n",
       "      <td>1.189019</td>\n",
       "      <td>1.189019</td>\n",
       "      <td>1.189019</td>\n",
       "    </tr>\n",
       "    <tr>\n",
       "      <th>5</th>\n",
       "      <td>1.343078</td>\n",
       "      <td>1.699591</td>\n",
       "      <td>1.386580</td>\n",
       "      <td>1.184683</td>\n",
       "      <td>1.184683</td>\n",
       "      <td>1.184683</td>\n",
       "    </tr>\n",
       "    <tr>\n",
       "      <th>6</th>\n",
       "      <td>1.221570</td>\n",
       "      <td>1.545665</td>\n",
       "      <td>1.945527</td>\n",
       "      <td>1.178867</td>\n",
       "      <td>1.178867</td>\n",
       "      <td>1.178867</td>\n",
       "    </tr>\n",
       "    <tr>\n",
       "      <th>7</th>\n",
       "      <td>1.658996</td>\n",
       "      <td>1.634780</td>\n",
       "      <td>1.645802</td>\n",
       "      <td>1.182652</td>\n",
       "      <td>1.182652</td>\n",
       "      <td>1.182652</td>\n",
       "    </tr>\n",
       "    <tr>\n",
       "      <th>8</th>\n",
       "      <td>1.658996</td>\n",
       "      <td>1.505158</td>\n",
       "      <td>1.516191</td>\n",
       "      <td>1.184099</td>\n",
       "      <td>1.184099</td>\n",
       "      <td>1.184099</td>\n",
       "    </tr>\n",
       "    <tr>\n",
       "      <th>9</th>\n",
       "      <td>1.399781</td>\n",
       "      <td>1.424145</td>\n",
       "      <td>1.589097</td>\n",
       "      <td>1.181296</td>\n",
       "      <td>1.181296</td>\n",
       "      <td>1.181296</td>\n",
       "    </tr>\n",
       "  </tbody>\n",
       "</table>\n",
       "</div>"
      ],
      "text/plain": [
       "   mean_current_r  mean_current_s  mean_current_t  std_current_r  \\\n",
       "0        1.375479        1.877820        1.670104       1.183187   \n",
       "1        1.999216        2.056050        1.905023       1.181967   \n",
       "2        1.577991        1.723895        2.326258       1.189432   \n",
       "3        1.480786        1.796807        1.783513       1.188224   \n",
       "4        1.796704        1.488956        1.662003       1.189019   \n",
       "5        1.343078        1.699591        1.386580       1.184683   \n",
       "6        1.221570        1.545665        1.945527       1.178867   \n",
       "7        1.658996        1.634780        1.645802       1.182652   \n",
       "8        1.658996        1.505158        1.516191       1.184099   \n",
       "9        1.399781        1.424145        1.589097       1.181296   \n",
       "\n",
       "   std_current_s  std_current_t  \n",
       "0       1.183187       1.183187  \n",
       "1       1.181967       1.181967  \n",
       "2       1.189432       1.189432  \n",
       "3       1.188224       1.188224  \n",
       "4       1.189019       1.189019  \n",
       "5       1.184683       1.184683  \n",
       "6       1.178867       1.178867  \n",
       "7       1.182652       1.182652  \n",
       "8       1.184099       1.184099  \n",
       "9       1.181296       1.181296  "
      ]
     },
     "execution_count": 66,
     "metadata": {},
     "output_type": "execute_result"
    }
   ],
   "source": [
    "df_mean_std[4]"
   ]
  },
  {
   "cell_type": "markdown",
   "metadata": {},
   "source": [
    "### b) Extração de atributos no sinal\n",
    "\n",
    "- Utilize o código de `feature_extraction_signal` em: https://github.com/navarmn/feature_extraction_signal\n",
    "- Use as classes `Fourier` e `HOS` de maneira adequada. Lembre do método `.transform()`.\n",
    "- Na classe `Fourier`utilize os parâmetros: `fs=5000`; o valor de fundamental está na TAG do nome em `_FG5955_`significa `fundamental=59.55`. `harmonics=(0.5, 1, 1.5, 2.5, 3, 5, 7)`, mas sintam-se à vontade para buscar outras harmônicas;\n",
    "- Os rótulos devem serem impostos de acordo com a descrição da tag feita cima. \n",
    "- Monte um dataframe que contenham os atributos em cada coluna e a útlima com o rótulo. Concatene os artibutos extraídos da `Current_R`, `Current_S` e `Current_T`.\n",
    "- Deverá ser feito um dataframe para os atributos de Fourier e um para os atributos de HOS."
   ]
  },
  {
   "cell_type": "code",
   "execution_count": 1,
   "metadata": {},
   "outputs": [
    {
     "name": "stdout",
     "output_type": "stream",
     "text": [
      "Cloning into 'feature_extraction_signal'...\n",
      "remote: Enumerating objects: 3, done.\u001b[K\n",
      "remote: Counting objects: 100% (3/3), done.\u001b[K\n",
      "remote: Compressing objects: 100% (3/3), done.\u001b[K\n",
      "remote: Total 18 (delta 0), reused 3 (delta 0), pack-reused 15\u001b[K\n",
      "Unpacking objects: 100% (18/18), done.\n"
     ]
    }
   ],
   "source": [
    "!git clone https://github.com/navarmn/feature_extraction_signal.git"
   ]
  },
  {
   "cell_type": "code",
   "execution_count": 2,
   "metadata": {},
   "outputs": [
    {
     "name": "stdout",
     "output_type": "stream",
     "text": [
      "Atividades.ipynb  data\t\t\t     requirements.txt\r\n",
      "Untitled.ipynb\t  feature_extraction_signal\r\n"
     ]
    }
   ],
   "source": [
    "!ls"
   ]
  },
  {
   "cell_type": "code",
   "execution_count": 40,
   "metadata": {},
   "outputs": [],
   "source": [
    "from feature_extraction_signal.src import feature_extraction"
   ]
  },
  {
   "cell_type": "code",
   "execution_count": 100,
   "metadata": {},
   "outputs": [
    {
     "data": {
      "text/html": [
       "<div>\n",
       "<style scoped>\n",
       "    .dataframe tbody tr th:only-of-type {\n",
       "        vertical-align: middle;\n",
       "    }\n",
       "\n",
       "    .dataframe tbody tr th {\n",
       "        vertical-align: top;\n",
       "    }\n",
       "\n",
       "    .dataframe thead th {\n",
       "        text-align: right;\n",
       "    }\n",
       "</style>\n",
       "<table border=\"1\" class=\"dataframe\">\n",
       "  <thead>\n",
       "    <tr style=\"text-align: right;\">\n",
       "      <th></th>\n",
       "      <th>Current_R</th>\n",
       "      <th>Current_S</th>\n",
       "      <th>Current_T</th>\n",
       "      <th>Current_hall_R</th>\n",
       "      <th>Current_hall_S</th>\n",
       "      <th>Current_hall_T</th>\n",
       "      <th>Freq_Rated</th>\n",
       "      <th>Freq_Gen</th>\n",
       "      <th>CC_bus</th>\n",
       "      <th>Power</th>\n",
       "      <th>Load</th>\n",
       "      <th>I_R_rms</th>\n",
       "      <th>I_S_rms</th>\n",
       "      <th>I_T_rms</th>\n",
       "    </tr>\n",
       "  </thead>\n",
       "  <tbody>\n",
       "    <tr>\n",
       "      <th>0</th>\n",
       "      <td>0.366486</td>\n",
       "      <td>1.117192</td>\n",
       "      <td>-1.372104</td>\n",
       "      <td>2.298109</td>\n",
       "      <td>2.616753</td>\n",
       "      <td>2.420486</td>\n",
       "      <td>60</td>\n",
       "      <td>59.42</td>\n",
       "      <td>218</td>\n",
       "      <td>0.13</td>\n",
       "      <td>0</td>\n",
       "      <td>1.295173</td>\n",
       "      <td>1.211041</td>\n",
       "      <td>1.249027</td>\n",
       "    </tr>\n",
       "    <tr>\n",
       "      <th>1</th>\n",
       "      <td>0.570073</td>\n",
       "      <td>1.193545</td>\n",
       "      <td>-1.804737</td>\n",
       "      <td>2.331253</td>\n",
       "      <td>2.596358</td>\n",
       "      <td>2.435783</td>\n",
       "      <td>60</td>\n",
       "      <td>59.42</td>\n",
       "      <td>218</td>\n",
       "      <td>0.13</td>\n",
       "      <td>0</td>\n",
       "      <td>1.295173</td>\n",
       "      <td>1.211041</td>\n",
       "      <td>1.249027</td>\n",
       "    </tr>\n",
       "    <tr>\n",
       "      <th>2</th>\n",
       "      <td>1.028144</td>\n",
       "      <td>0.964485</td>\n",
       "      <td>-1.473900</td>\n",
       "      <td>2.323605</td>\n",
       "      <td>2.654994</td>\n",
       "      <td>2.400091</td>\n",
       "      <td>60</td>\n",
       "      <td>59.42</td>\n",
       "      <td>218</td>\n",
       "      <td>0.13</td>\n",
       "      <td>0</td>\n",
       "      <td>1.295173</td>\n",
       "      <td>1.211041</td>\n",
       "      <td>1.249027</td>\n",
       "    </tr>\n",
       "    <tr>\n",
       "      <th>3</th>\n",
       "      <td>-0.206103</td>\n",
       "      <td>0.989936</td>\n",
       "      <td>-1.919258</td>\n",
       "      <td>2.364398</td>\n",
       "      <td>2.614204</td>\n",
       "      <td>2.420486</td>\n",
       "      <td>60</td>\n",
       "      <td>59.42</td>\n",
       "      <td>218</td>\n",
       "      <td>0.13</td>\n",
       "      <td>0</td>\n",
       "      <td>1.295173</td>\n",
       "      <td>1.211041</td>\n",
       "      <td>1.249027</td>\n",
       "    </tr>\n",
       "    <tr>\n",
       "      <th>4</th>\n",
       "      <td>1.091765</td>\n",
       "      <td>0.735425</td>\n",
       "      <td>-1.550247</td>\n",
       "      <td>2.356749</td>\n",
       "      <td>2.680488</td>\n",
       "      <td>2.382245</td>\n",
       "      <td>60</td>\n",
       "      <td>59.42</td>\n",
       "      <td>218</td>\n",
       "      <td>0.13</td>\n",
       "      <td>0</td>\n",
       "      <td>1.295173</td>\n",
       "      <td>1.211041</td>\n",
       "      <td>1.249027</td>\n",
       "    </tr>\n",
       "    <tr>\n",
       "      <th>...</th>\n",
       "      <td>...</td>\n",
       "      <td>...</td>\n",
       "      <td>...</td>\n",
       "      <td>...</td>\n",
       "      <td>...</td>\n",
       "      <td>...</td>\n",
       "      <td>...</td>\n",
       "      <td>...</td>\n",
       "      <td>...</td>\n",
       "      <td>...</td>\n",
       "      <td>...</td>\n",
       "      <td>...</td>\n",
       "      <td>...</td>\n",
       "      <td>...</td>\n",
       "    </tr>\n",
       "    <tr>\n",
       "      <th>49995</th>\n",
       "      <td>1.651630</td>\n",
       "      <td>-0.308071</td>\n",
       "      <td>-0.964920</td>\n",
       "      <td>2.522472</td>\n",
       "      <td>2.644797</td>\n",
       "      <td>2.298115</td>\n",
       "      <td>60</td>\n",
       "      <td>59.42</td>\n",
       "      <td>218</td>\n",
       "      <td>0.13</td>\n",
       "      <td>0</td>\n",
       "      <td>1.295173</td>\n",
       "      <td>1.211041</td>\n",
       "      <td>1.249027</td>\n",
       "    </tr>\n",
       "    <tr>\n",
       "      <th>49996</th>\n",
       "      <td>1.867941</td>\n",
       "      <td>-0.664387</td>\n",
       "      <td>-1.308482</td>\n",
       "      <td>2.517373</td>\n",
       "      <td>2.614204</td>\n",
       "      <td>2.308313</td>\n",
       "      <td>60</td>\n",
       "      <td>59.42</td>\n",
       "      <td>218</td>\n",
       "      <td>0.13</td>\n",
       "      <td>0</td>\n",
       "      <td>1.295173</td>\n",
       "      <td>1.211041</td>\n",
       "      <td>1.249027</td>\n",
       "    </tr>\n",
       "    <tr>\n",
       "      <th>49997</th>\n",
       "      <td>1.689803</td>\n",
       "      <td>-0.562583</td>\n",
       "      <td>-0.952195</td>\n",
       "      <td>2.553067</td>\n",
       "      <td>2.624402</td>\n",
       "      <td>2.280270</td>\n",
       "      <td>60</td>\n",
       "      <td>59.42</td>\n",
       "      <td>218</td>\n",
       "      <td>0.13</td>\n",
       "      <td>0</td>\n",
       "      <td>1.295173</td>\n",
       "      <td>1.211041</td>\n",
       "      <td>1.249027</td>\n",
       "    </tr>\n",
       "    <tr>\n",
       "      <th>49998</th>\n",
       "      <td>1.944287</td>\n",
       "      <td>-0.906173</td>\n",
       "      <td>-1.130338</td>\n",
       "      <td>2.545418</td>\n",
       "      <td>2.578512</td>\n",
       "      <td>2.308313</td>\n",
       "      <td>60</td>\n",
       "      <td>59.42</td>\n",
       "      <td>218</td>\n",
       "      <td>0.13</td>\n",
       "      <td>0</td>\n",
       "      <td>1.295173</td>\n",
       "      <td>1.211041</td>\n",
       "      <td>1.249027</td>\n",
       "    </tr>\n",
       "    <tr>\n",
       "      <th>49999</th>\n",
       "      <td>1.689803</td>\n",
       "      <td>-0.791643</td>\n",
       "      <td>-0.735878</td>\n",
       "      <td>2.586211</td>\n",
       "      <td>2.616753</td>\n",
       "      <td>2.295566</td>\n",
       "      <td>60</td>\n",
       "      <td>59.42</td>\n",
       "      <td>218</td>\n",
       "      <td>0.13</td>\n",
       "      <td>0</td>\n",
       "      <td>1.295173</td>\n",
       "      <td>1.211041</td>\n",
       "      <td>1.249027</td>\n",
       "    </tr>\n",
       "  </tbody>\n",
       "</table>\n",
       "<p>50000 rows × 14 columns</p>\n",
       "</div>"
      ],
      "text/plain": [
       "       Current_R  Current_S  Current_T  Current_hall_R  Current_hall_S  \\\n",
       "0       0.366486   1.117192  -1.372104        2.298109        2.616753   \n",
       "1       0.570073   1.193545  -1.804737        2.331253        2.596358   \n",
       "2       1.028144   0.964485  -1.473900        2.323605        2.654994   \n",
       "3      -0.206103   0.989936  -1.919258        2.364398        2.614204   \n",
       "4       1.091765   0.735425  -1.550247        2.356749        2.680488   \n",
       "...          ...        ...        ...             ...             ...   \n",
       "49995   1.651630  -0.308071  -0.964920        2.522472        2.644797   \n",
       "49996   1.867941  -0.664387  -1.308482        2.517373        2.614204   \n",
       "49997   1.689803  -0.562583  -0.952195        2.553067        2.624402   \n",
       "49998   1.944287  -0.906173  -1.130338        2.545418        2.578512   \n",
       "49999   1.689803  -0.791643  -0.735878        2.586211        2.616753   \n",
       "\n",
       "       Current_hall_T  Freq_Rated  Freq_Gen  CC_bus  Power  Load   I_R_rms  \\\n",
       "0            2.420486          60     59.42     218   0.13     0  1.295173   \n",
       "1            2.435783          60     59.42     218   0.13     0  1.295173   \n",
       "2            2.400091          60     59.42     218   0.13     0  1.295173   \n",
       "3            2.420486          60     59.42     218   0.13     0  1.295173   \n",
       "4            2.382245          60     59.42     218   0.13     0  1.295173   \n",
       "...               ...         ...       ...     ...    ...   ...       ...   \n",
       "49995        2.298115          60     59.42     218   0.13     0  1.295173   \n",
       "49996        2.308313          60     59.42     218   0.13     0  1.295173   \n",
       "49997        2.280270          60     59.42     218   0.13     0  1.295173   \n",
       "49998        2.308313          60     59.42     218   0.13     0  1.295173   \n",
       "49999        2.295566          60     59.42     218   0.13     0  1.295173   \n",
       "\n",
       "        I_S_rms   I_T_rms  \n",
       "0      1.211041  1.249027  \n",
       "1      1.211041  1.249027  \n",
       "2      1.211041  1.249027  \n",
       "3      1.211041  1.249027  \n",
       "4      1.211041  1.249027  \n",
       "...         ...       ...  \n",
       "49995  1.211041  1.249027  \n",
       "49996  1.211041  1.249027  \n",
       "49997  1.211041  1.249027  \n",
       "49998  1.211041  1.249027  \n",
       "49999  1.211041  1.249027  \n",
       "\n",
       "[50000 rows x 14 columns]"
      ]
     },
     "execution_count": 100,
     "metadata": {},
     "output_type": "execute_result"
    }
   ],
   "source": [
    "df_falha_1"
   ]
  },
  {
   "cell_type": "code",
   "execution_count": 192,
   "metadata": {},
   "outputs": [],
   "source": [
    "def split_df(df):\n",
    "    current_r = []\n",
    "    current_s = []\n",
    "    current_t = []\n",
    "    res_df = []\n",
    "\n",
    "    for index in range(0,50000,5000):\n",
    "\n",
    "        current_r.append(df.Current_R[index:index+5000])\n",
    "        current_s.append(df.Current_S[index:index+5000])\n",
    "        current_t.append(df.Current_T[index:index+5000])\n",
    "        \n",
    "    for index in range(10):\n",
    "        \n",
    "        data = {\n",
    "            'current_r':current_r[index],\n",
    "            'current_s': current_s[index],\n",
    "            'current_t': current_t[index]\n",
    "           }\n",
    "        \n",
    "        res_df.append(pd.DataFrame(data=data))\n",
    "    \n",
    "    return res_df    "
   ]
  },
  {
   "cell_type": "code",
   "execution_count": 215,
   "metadata": {},
   "outputs": [
    {
     "data": {
      "text/plain": [
       "[[      current_r  current_s  current_t     file\n",
       "  0      0.366486   1.117192  -1.372104  Falha 1\n",
       "  1      0.570073   1.193545  -1.804737  Falha 1\n",
       "  2      1.028144   0.964485  -1.473900  Falha 1\n",
       "  3     -0.206103   0.989936  -1.919258  Falha 1\n",
       "  4      1.091765   0.735425  -1.550247  Falha 1\n",
       "  ...         ...        ...        ...      ...\n",
       "  4995   1.155386  -1.898767   0.803788  Falha 1\n",
       "  4996   0.799109  -1.338842   0.625644  Falha 1\n",
       "  4997   0.977247  -1.949669   1.058278  Falha 1\n",
       "  4998   0.595521  -1.402470   0.854686  Falha 1\n",
       "  4999   0.735488  -1.987846   1.160074  Falha 1\n",
       "  \n",
       "  [5000 rows x 4 columns],       current_r  current_s  current_t     file\n",
       "  5000   0.391934  -1.427921   1.121900  Falha 1\n",
       "  5001   0.531900  -1.695158   1.350942  Falha 1\n",
       "  5002   0.201071  -1.453372   1.338217  Falha 1\n",
       "  5003   0.086553  -1.491549   1.465462  Falha 1\n",
       "  5004  -0.104310  -1.389744   1.567258  Falha 1\n",
       "  ...         ...        ...        ...      ...\n",
       "  9995  -1.707559   1.486233   0.142113  Falha 1\n",
       "  9996  -1.542144   1.537135  -0.048755  Falha 1\n",
       "  9997  -1.440351   1.588038  -0.163275  Falha 1\n",
       "  9998  -1.465799   1.778921  -0.315970  Falha 1\n",
       "  9999  -1.249488   1.613489  -0.354143  Falha 1\n",
       "  \n",
       "  [5000 rows x 4 columns],        current_r  current_s  current_t     file\n",
       "  10000  -1.325833   1.957079  -0.583184  Falha 1\n",
       "  10001  -0.982279   1.562586  -0.557735  Falha 1\n",
       "  10002  -1.211315   2.071609  -0.684980  Falha 1\n",
       "  10003  -0.676899   1.397154  -0.786777  Falha 1\n",
       "  10004  -1.007728   1.855274  -0.977644  Falha 1\n",
       "  ...          ...        ...        ...      ...\n",
       "  14995   1.778872  -0.867996  -0.964920  Falha 1\n",
       "  14996   1.957011  -0.957075  -0.824950  Falha 1\n",
       "  14997   1.715251  -1.071605  -0.723154  Falha 1\n",
       "  14998   1.867941  -1.147959  -0.570460  Falha 1\n",
       "  14999   1.486215  -1.224312  -0.430490  Falha 1\n",
       "  \n",
       "  [5000 rows x 4 columns],        current_r  current_s  current_t     file\n",
       "  15000   1.715251  -1.326116  -0.265072  Falha 1\n",
       "  15001   1.460767  -1.338842  -0.061479  Falha 1\n",
       "  15002   1.549836  -1.491549   0.027592  Falha 1\n",
       "  15003   1.486215  -1.555177   0.154837  Falha 1\n",
       "  15004   1.384422  -1.580628   0.256633  Falha 1\n",
       "  ...          ...        ...        ...      ...\n",
       "  19995  -1.669386   0.162775   1.592707  Falha 1\n",
       "  19996  -1.720283   0.302756   1.529085  Falha 1\n",
       "  19997  -1.898422   0.353658   1.109176  Falha 1\n",
       "  19998  -1.822077   0.531816   1.389115  Falha 1\n",
       "  19999  -1.822077   0.544541   1.223696  Falha 1\n",
       "  \n",
       "  [5000 rows x 4 columns],        current_r  current_s  current_t     file\n",
       "  20000  -1.860249   0.735425   1.109176  Falha 1\n",
       "  20001  -1.923870   0.760876   0.981931  Falha 1\n",
       "  20002  -1.847525   1.015387   0.931033  Falha 1\n",
       "  20003  -1.847525   1.028113   0.816512  Falha 1\n",
       "  20004  -1.809352   1.180820   0.740165  Falha 1\n",
       "  ...          ...        ...        ...      ...\n",
       "  24995   0.939075   0.633620  -1.613870  Falha 1\n",
       "  24996   1.129938   0.684523  -2.059228  Falha 1\n",
       "  24997   1.397146   0.430011  -1.639319  Falha 1\n",
       "  24998   1.053593   0.468188  -2.071952  Falha 1\n",
       "  24999   1.358973   0.188226  -1.626594  Falha 1\n",
       "  \n",
       "  [5000 rows x 4 columns],        current_r  current_s  current_t     file\n",
       "  25000   1.346249   0.239128  -1.664768  Falha 1\n",
       "  25001   1.498940   0.048244  -1.601145  Falha 1\n",
       "  25002   1.588009  -0.066286  -1.524798  Falha 1\n",
       "  25003   1.689803  -0.333522  -1.499349  Falha 1\n",
       "  25004   1.142662  -0.269895  -1.283032  Falha 1\n",
       "  ...          ...        ...        ...      ...\n",
       "  29995  -0.180655  -1.377019   1.732677  Falha 1\n",
       "  29996  -0.218827  -1.211586   1.567258  Falha 1\n",
       "  29997  -0.524208  -1.249763   1.834473  Falha 1\n",
       "  29998  -0.396966  -0.969801   1.579983  Falha 1\n",
       "  29999  -0.765968  -1.071605   1.974443  Falha 1\n",
       "  \n",
       "  [5000 rows x 4 columns],        current_r  current_s  current_t     file\n",
       "  30000  -0.651450  -0.689838   1.465462  Falha 1\n",
       "  30001  -1.020452  -0.931624   2.101688  Falha 1\n",
       "  30002  -0.918658  -0.498955   1.440013  Falha 1\n",
       "  30003  -1.249488  -0.893447   1.859922  Falha 1\n",
       "  30004  -1.160418  -0.269895   1.465462  Falha 1\n",
       "  ...          ...        ...        ...      ...\n",
       "  34995  -0.880486   1.753470  -1.015818  Falha 1\n",
       "  34996  -0.422415   1.308075  -1.053991  Falha 1\n",
       "  34997  -0.524208   1.638940  -1.206685  Falha 1\n",
       "  34998  -0.231552   1.358977  -1.219410  Falha 1\n",
       "  34999  -0.167931   1.473508  -1.397553  Falha 1\n",
       "  \n",
       "  [5000 rows x 4 columns],        current_r  current_s  current_t     file\n",
       "  35000   0.035657   1.333526  -1.448451  Falha 1\n",
       "  35001   0.124726   1.308075  -1.524798  Falha 1\n",
       "  35002   0.302865   1.308075  -1.715666  Falha 1\n",
       "  35003   0.315589   1.155368  -1.639319  Falha 1\n",
       "  35004   0.595521   1.168094  -1.893809  Falha 1\n",
       "  ...          ...        ...        ...      ...\n",
       "  39995   1.282628  -1.555177   0.294807  Falha 1\n",
       "  39996   1.333525  -1.809688   0.396603  Falha 1\n",
       "  39997   1.091765  -1.606079   0.511124  Falha 1\n",
       "  39998   1.206283  -1.669707   0.638369  Falha 1\n",
       "  39999   0.900902  -1.631530   0.740165  Falha 1\n",
       "  \n",
       "  [5000 rows x 4 columns],        current_r  current_s  current_t     file\n",
       "  40000   0.939075  -1.746060   0.841961  Falha 1\n",
       "  40001   0.595521  -1.593353   0.969206  Falha 1\n",
       "  40002   0.633694  -1.669707   1.058278  Falha 1\n",
       "  40003   0.264692  -1.402470   1.185523  Falha 1\n",
       "  40004   0.315589  -1.580628   1.261870  Falha 1\n",
       "  ...          ...        ...        ...      ...\n",
       "  44995  -1.758456   1.295350   0.638369  Falha 1\n",
       "  44996  -1.707559   1.308075   0.612920  Falha 1\n",
       "  44997  -1.567593   1.511684   0.294807  Falha 1\n",
       "  44998  -1.567593   1.498959   0.409328  Falha 1\n",
       "  44999  -1.402178   1.537135   0.231184  Falha 1\n",
       "  \n",
       "  [5000 rows x 4 columns],        current_r  current_s  current_t     file\n",
       "  45000  -1.427626   1.549861   0.193011  Falha 1\n",
       "  45001  -1.198591   1.473508  -0.099653  Falha 1\n",
       "  45002  -1.325833   1.753470  -0.137826  Falha 1\n",
       "  45003  -1.160418   1.562586  -0.188724  Falha 1\n",
       "  45004  -1.096797   1.804372  -0.430490  Falha 1\n",
       "  ...          ...        ...        ...      ...\n",
       "  49995   1.651630  -0.308071  -0.964920  Falha 1\n",
       "  49996   1.867941  -0.664387  -1.308482  Falha 1\n",
       "  49997   1.689803  -0.562583  -0.952195  Falha 1\n",
       "  49998   1.944287  -0.906173  -1.130338  Falha 1\n",
       "  49999   1.689803  -0.791643  -0.735878  Falha 1\n",
       "  \n",
       "  [5000 rows x 4 columns]], [      current_r  current_s  current_t     file\n",
       "  0      4.043780  -2.675026  -1.804737  Falha 2\n",
       "  1      4.158297  -2.929537  -1.601145  Falha 2\n",
       "  2      3.929262  -2.916812  -1.423002  Falha 2\n",
       "  3      4.018331  -3.158598  -1.257583  Falha 2\n",
       "  4      3.802020  -3.158598  -1.066716  Falha 2\n",
       "  ...         ...        ...        ...      ...\n",
       "  4995  -1.911146   3.827737  -1.321206  Falha 2\n",
       "  4996  -2.369217   2.949673  -1.053991  Falha 2\n",
       "  4997  -2.458287   3.865913  -1.715666  Falha 2\n",
       "  4998  -2.241975   2.949673  -1.448451  Falha 2\n",
       "  4999  -2.051112   3.802286  -2.059228  Falha 2\n",
       "  \n",
       "  [5000 rows x 4 columns],       current_r  current_s  current_t     file\n",
       "  5000  -1.516696   2.898771  -1.830187  Falha 2\n",
       "  5001  -1.542144   3.675030  -2.262820  Falha 2\n",
       "  5002  -1.287660   2.847868  -2.122850  Falha 2\n",
       "  5003  -1.096797   3.013301  -2.377341  Falha 2\n",
       "  5004  -0.829589   2.644259  -2.377341  Falha 2\n",
       "  ...         ...        ...        ...      ...\n",
       "  9995  -2.165630  -1.377019   3.857670  Falha 2\n",
       "  9996  -1.885698  -0.511680   2.992404  Falha 2\n",
       "  9997  -2.687322  -1.122507   3.679527  Falha 2\n",
       "  9998  -2.394666  -0.231718   2.928781  Falha 2\n",
       "  9999  -3.119945  -0.944350   3.794048  Falha 2\n",
       "  \n",
       "  [5000 rows x 4 columns],        current_r  current_s  current_t     file\n",
       "  10000  -2.852737   0.060970   2.788811  Falha 2\n",
       "  10001  -3.578016  -0.308071   3.704976  Falha 2\n",
       "  10002  -3.323532   0.302756   2.941506  Falha 2\n",
       "  10003  -3.743431   0.048244   3.615905  Falha 2\n",
       "  10004  -3.628913   0.468188   3.132373  Falha 2\n",
       "  ...          ...        ...        ...      ...\n",
       "  14995   4.909025  -2.166004  -2.402790  Falha 2\n",
       "  14996   3.903813  -1.835139  -2.224646  Falha 2\n",
       "  14997   5.214406  -2.305985  -2.071952  Falha 2\n",
       "  14998   3.814744  -2.115101  -1.893809  Falha 2\n",
       "  14999   4.412781  -2.636849  -1.702941  Falha 2\n",
       "  \n",
       "  [5000 rows x 4 columns],        current_r  current_s  current_t     file\n",
       "  15000   3.496639  -2.407789  -1.461176  Falha 2\n",
       "  15001   4.692714  -2.853184  -1.295757  Falha 2\n",
       "  15002   3.382121  -2.687752  -1.079440  Falha 2\n",
       "  15003   4.489127  -3.056793  -0.939471  Falha 2\n",
       "  15004   3.394845  -2.051474  -0.748603  Falha 2\n",
       "  ...          ...        ...        ...      ...\n",
       "  19995  -2.852737   1.893451  -0.328694  Falha 2\n",
       "  19996  -2.623701   3.700481  -0.659531  Falha 2\n",
       "  19997  -2.483735   3.242361  -0.824950  Falha 2\n",
       "  19998  -2.216527   3.305989  -0.990369  Falha 2\n",
       "  19999  -2.051112   3.178733  -1.104889  Falha 2\n",
       "  \n",
       "  [5000 rows x 4 columns],        current_r  current_s  current_t     file\n",
       "  20000  -1.707559   3.509598  -1.372104  Falha 2\n",
       "  20001  -1.542144   3.051477  -1.473900  Falha 2\n",
       "  20002  -1.262212   3.369617  -1.753839  Falha 2\n",
       "  20003  -1.084073   2.936947  -1.753839  Falha 2\n",
       "  20004  -0.791416   2.631534  -2.008330  Falha 2\n",
       "  ...          ...        ...        ...      ...\n",
       "  24995  -0.905934  -2.026022   2.610668  Falha 2\n",
       "  24996  -1.173142  -1.936943   3.552282  Falha 2\n",
       "  24997  -1.389454  -1.669707   2.992404  Falha 2\n",
       "  24998  -1.682110  -1.542451   3.552282  Falha 2\n",
       "  24999  -1.860249  -1.326116   3.106924  Falha 2\n",
       "  \n",
       "  [5000 rows x 4 columns],        current_r  current_s  current_t     file\n",
       "  25000  -2.203803  -1.224312   3.399588  Falha 2\n",
       "  25001  -2.381941  -0.969801   3.043302  Falha 2\n",
       "  25002  -2.700046  -0.867996   3.374139  Falha 2\n",
       "  25003  -2.852737  -0.664387   3.310516  Falha 2\n",
       "  25004  -3.081772  -0.600759   4.252130  Falha 2\n",
       "  ...          ...        ...        ...      ...\n",
       "  29995   3.725675  -0.269895  -3.255332  Falha 2\n",
       "  29996   3.840192  -0.753466  -3.318954  Falha 2\n",
       "  29997   3.827468  -0.575308  -3.000842  Falha 2\n",
       "  29998   4.107401  -1.186135  -3.051740  Falha 2\n",
       "  29999   3.700226  -0.880722  -2.542759  Falha 2\n",
       "  \n",
       "  [5000 rows x 4 columns],        current_r  current_s  current_t     file\n",
       "  30000   3.700226  -1.567902  -2.771800  Falha 2\n",
       "  30001   3.954710  -1.326116  -2.071952  Falha 2\n",
       "  30002   4.425506  -2.026022  -2.504586  Falha 2\n",
       "  30003   4.247367  -1.707883  -1.753839  Falha 2\n",
       "  30004   4.196470  -2.407789  -2.262820  Falha 2\n",
       "  ...          ...        ...        ...      ...\n",
       "  34995  -3.896121   3.395068   0.218460  Falha 2\n",
       "  34996  -3.794328   3.522323  -0.036030  Falha 2\n",
       "  34997  -3.438050   3.267812  -0.137826  Falha 2\n",
       "  34998  -3.603465   3.815011  -0.519562  Falha 2\n",
       "  34999  -2.967255   3.178733  -0.494113  Falha 2\n",
       "  \n",
       "  [5000 rows x 4 columns],        current_r  current_s  current_t     file\n",
       "  35000  -3.374429   4.056797  -0.939471  Falha 2\n",
       "  35001  -2.381941   3.026026  -0.812226  Falha 2\n",
       "  35002  -3.030876   4.158601  -1.359380  Falha 2\n",
       "  35003  -2.051112   2.682436  -1.079440  Falha 2\n",
       "  35004  -2.712771   4.260406  -1.537523  Falha 2\n",
       "  ...          ...        ...        ...      ...\n",
       "  39995  -0.078861  -2.433240   2.763362  Falha 2\n",
       "  39996  -0.422415  -2.178729   2.877883  Falha 2\n",
       "  39997  -0.689623  -2.038748   2.979679  Falha 2\n",
       "  39998  -0.982279  -1.949669   3.895844  Falha 2\n",
       "  39999  -1.084073  -1.682432   3.056026  Falha 2\n",
       "  \n",
       "  [5000 rows x 4 columns],        current_r  current_s  current_t     file\n",
       "  40000  -1.491247  -1.695158   2.547046  Falha 2\n",
       "  40001  -1.465799  -1.300665   3.145098  Falha 2\n",
       "  40002  -2.076561  -1.415195   3.145098  Falha 2\n",
       "  40003  -1.936594  -0.918898   3.208720  Falha 2\n",
       "  40004  -2.598253  -0.880722   3.208720  Falha 2\n",
       "  ...          ...        ...        ...      ...\n",
       "  44995   4.120125  -0.995252  -3.497098  Falha 2\n",
       "  44996   4.107401  -1.351568  -3.382577  Falha 2\n",
       "  44997   4.298264  -1.046154  -3.344403  Falha 2\n",
       "  44998   4.361885  -1.211586  -3.217158  Falha 2\n",
       "  44999   4.349160  -1.338842  -3.191709  Falha 2\n",
       "  \n",
       "  [5000 rows x 4 columns],        current_r  current_s  current_t     file\n",
       "  45000   5.227130  -1.300665  -3.051740  Falha 2\n",
       "  45001   4.336436  -1.466098  -3.000842  Falha 2\n",
       "  45002   4.145573  -1.631530  -2.771800  Falha 2\n",
       "  45003   4.310988  -2.229631  -2.631831  Falha 2\n",
       "  45004   4.285539  -1.987846  -2.491861  Falha 2\n",
       "  ...          ...        ...        ...      ...\n",
       "  49995  -3.959742   2.809692   1.516360  Falha 2\n",
       "  49996  -3.934294   2.924222   1.529085  Falha 2\n",
       "  49997  -3.857949   3.038752   1.325493  Falha 2\n",
       "  49998  -3.756155   3.076929   1.172798  Falha 2\n",
       "  49999  -3.692534   3.255086   0.931033  Falha 2\n",
       "  \n",
       "  [5000 rows x 4 columns]], [      current_r  current_s  current_t     file\n",
       "  0      0.608246  -1.631530   0.918308  Falha 3\n",
       "  1      0.404658  -1.466098   0.981931  Falha 3\n",
       "  2      0.150174  -1.478823   0.994655  Falha 3\n",
       "  3      0.048381  -1.262489   1.134625  Falha 3\n",
       "  4     -0.167931  -1.122507   1.198247  Falha 3\n",
       "  ...         ...        ...        ...      ...\n",
       "  4995  -1.707559   0.150049   1.389115  Falha 3\n",
       "  4996  -1.809352   0.557267   1.363666  Falha 3\n",
       "  4997  -1.809352   0.544541   1.185523  Falha 3\n",
       "  4998  -2.038388   0.849955   1.274594  Falha 3\n",
       "  4999  -1.783904   0.799053   1.020104  Falha 3\n",
       "  \n",
       "  [5000 rows x 4 columns],       current_r  current_s  current_t     file\n",
       "  5000  -2.114733   1.104466   1.134625  Falha 3\n",
       "  5001  -2.102009   1.015387   0.892859  Falha 3\n",
       "  5002  -1.783904   1.358977   1.007380  Falha 3\n",
       "  5003  -1.911146   1.257173   0.714716  Falha 3\n",
       "  5004  -2.267424   1.549861   0.854686  Falha 3\n",
       "  ...         ...        ...        ...      ...\n",
       "  9995  -1.224039   2.262492  -0.914022  Falha 3\n",
       "  9996  -0.676899   1.435331  -0.786777  Falha 3\n",
       "  9997  -1.058625   1.791647  -1.066716  Falha 3\n",
       "  9998  -0.384242   1.384429  -1.079440  Falha 3\n",
       "  9999  -0.320621   1.473508  -1.206685  Falha 3\n",
       "  \n",
       "  [5000 rows x 4 columns],        current_r  current_s  current_t     file\n",
       "  10000  -0.091585   1.295350  -1.308482  Falha 3\n",
       "  10001  -0.027964   1.180820  -1.295757  Falha 3\n",
       "  10002   0.290141   1.155368  -1.524798  Falha 3\n",
       "  10003   0.277416   1.002662  -1.308482  Falha 3\n",
       "  10004   0.684591   0.951759  -1.690217  Falha 3\n",
       "  ...          ...        ...        ...      ...\n",
       "  14995   2.186046  -0.918898  -1.295757  Falha 3\n",
       "  14996   1.829769  -0.817094  -1.079440  Falha 3\n",
       "  14997   2.389634  -1.275214  -1.143063  Falha 3\n",
       "  14998   1.651630  -1.020703  -0.850399  Falha 3\n",
       "  14999   2.555048  -1.351568  -0.863124  Falha 3\n",
       "  \n",
       "  [5000 rows x 4 columns],        current_r  current_s  current_t     file\n",
       "  15000   1.689803  -1.058880  -0.608633  Falha 3\n",
       "  15001   2.313288  -1.529725  -0.659531  Falha 3\n",
       "  15002   1.740699  -1.313391  -0.366868  Falha 3\n",
       "  15003   2.109701  -1.644256  -0.392317  Falha 3\n",
       "  15004   1.791596  -1.567902  -0.201449  Falha 3\n",
       "  ...          ...        ...        ...      ...\n",
       "  19995   0.201071  -1.237037   1.134625  Falha 3\n",
       "  19996   0.099278  -1.300665   1.287319  Falha 3\n",
       "  19997  -0.167931  -1.186135   1.414564  Falha 3\n",
       "  19998  -0.295173  -1.084331   1.465462  Falha 3\n",
       "  19999  -0.549657  -1.058880   1.554534  Falha 3\n",
       "  \n",
       "  [5000 rows x 4 columns],        current_r  current_s  current_t     file\n",
       "  20000  -0.562381  -0.880722   1.541809  Falha 3\n",
       "  20001  -0.880486  -0.855271   1.529085  Falha 3\n",
       "  20002  -0.829589  -0.664387   1.579983  Falha 3\n",
       "  20003  -1.096797  -0.588034   1.554534  Falha 3\n",
       "  20004  -1.084073  -0.371699   1.605432  Falha 3\n",
       "  ...          ...        ...        ...      ...\n",
       "  24995  -2.114733   1.320801   0.727440  Falha 3\n",
       "  24996  -2.305596   1.422605   1.007380  Falha 3\n",
       "  24997  -2.102009   1.511684   0.880135  Falha 3\n",
       "  24998  -2.203803   1.575312   0.778338  Falha 3\n",
       "  24999  -1.974767   1.689842   0.676542  Falha 3\n",
       "  \n",
       "  [5000 rows x 4 columns],        current_r  current_s  current_t     file\n",
       "  25000  -2.140182   1.766196   0.511124  Falha 3\n",
       "  25001  -1.860249   1.778921   0.472950  Falha 3\n",
       "  25002  -1.974767   1.855274   0.383879  Falha 3\n",
       "  25003  -1.949319   1.817098   0.256633  Falha 3\n",
       "  25004  -1.822077   1.957079   0.193011  Falha 3\n",
       "  ...          ...        ...        ...      ...\n",
       "  29995   0.213795   1.168094  -1.397553  Falha 3\n",
       "  29996   0.290141   0.939034  -1.117614  Falha 3\n",
       "  29997   0.481004   0.913583  -1.588421  Falha 3\n",
       "  29998   0.697315   0.671797  -1.257583  Falha 3\n",
       "  29999   0.862730   0.697248  -1.702941  Falha 3\n",
       "  \n",
       "  [5000 rows x 4 columns],        current_r  current_s  current_t     file\n",
       "  30000   0.799109   0.442737  -1.384829  Falha 3\n",
       "  30001   1.397146   0.455462  -1.817462  Falha 3\n",
       "  30002   1.257180   0.226402  -1.435727  Falha 3\n",
       "  30003   1.448043   0.239128  -1.830187  Falha 3\n",
       "  30004   1.511664  -0.040835  -1.473900  Falha 3\n",
       "  ...          ...        ...        ...      ...\n",
       "  34995   1.893390  -1.377019  -0.468664  Falha 3\n",
       "  34996   2.415082  -1.695158  -0.545011  Falha 3\n",
       "  34997   1.906114  -1.529725  -0.315970  Falha 3\n",
       "  34998   2.020632  -1.707883  -0.252347  Falha 3\n",
       "  34999   1.918838  -1.707883  -0.125102  Falha 3\n",
       "  \n",
       "  [5000 rows x 4 columns],        current_r  current_s  current_t     file\n",
       "  35000   1.918838  -1.593353  -0.099653  Falha 3\n",
       "  35001   1.817045  -1.949669   0.154837  Falha 3\n",
       "  35002   1.498940  -1.313391   0.027592  Falha 3\n",
       "  35003   1.651630  -2.076925   0.409328  Falha 3\n",
       "  35004   1.244456  -1.402470   0.193011  Falha 3\n",
       "  ...          ...        ...        ...      ...\n",
       "  39995  -0.626002  -0.677113   1.465462  Falha 3\n",
       "  39996  -1.096797  -0.753466   1.630881  Falha 3\n",
       "  39997  -0.893210  -0.308071   1.465462  Falha 3\n",
       "  39998  -1.224039  -0.448053   1.656330  Falha 3\n",
       "  39999  -1.224039  -0.079011   1.618156  Falha 3\n",
       "  \n",
       "  [5000 rows x 4 columns],        current_r  current_s  current_t     file\n",
       "  40000  -1.542144  -0.142639   1.579983  Falha 3\n",
       "  40001  -1.503972   0.150049   1.312768  Falha 3\n",
       "  40002  -1.669386   0.162775   1.503636  Falha 3\n",
       "  40003  -1.733007   0.353658   1.363666  Falha 3\n",
       "  40004  -1.809352   0.430011   1.427289  Falha 3\n",
       "  ...          ...        ...        ...      ...\n",
       "  44995  -1.987491   1.778921   0.065766  Falha 3\n",
       "  44996  -1.885698   1.868000  -0.074204  Falha 3\n",
       "  44997  -1.771180   1.817098  -0.150551  Falha 3\n",
       "  44998  -1.898422   2.173414  -0.201449  Falha 3\n",
       "  44999  -1.529420   1.804372  -0.328694  Falha 3\n",
       "  \n",
       "  [5000 rows x 4 columns],        current_r  current_s  current_t     file\n",
       "  45000  -1.860249   2.071609  -0.379592  Falha 3\n",
       "  45001  -1.300384   1.753470  -0.506837  Falha 3\n",
       "  45002  -1.516696   1.944353  -0.557735  Falha 3\n",
       "  45003  -0.982279   1.626214  -0.710429  Falha 3\n",
       "  45004  -1.134970   1.778921  -0.761327  Falha 3\n",
       "  ...          ...        ...        ...      ...\n",
       "  49995   1.295352   0.239128  -1.766564  Falha 3\n",
       "  49996   1.371698   0.137323  -1.664768  Falha 3\n",
       "  49997   1.524388  -0.079011  -1.524798  Falha 3\n",
       "  49998   1.409870  -0.155365  -1.588421  Falha 3\n",
       "  49999   1.727975  -0.320797  -1.486625  Falha 3\n",
       "  \n",
       "  [5000 rows x 4 columns]], [      current_r  current_s  current_t      file\n",
       "  0      0.735488   3.191459  -4.273293  Normal 1\n",
       "  1      0.799109   2.784241  -3.955180  Normal 1\n",
       "  2      1.333525   2.975124  -4.629579  Normal 1\n",
       "  3      1.282628   2.338846  -4.044252  Normal 1\n",
       "  4      1.893390   2.758789  -4.629579  Normal 1\n",
       "  ...         ...        ...        ...       ...\n",
       "  4995  -3.145393   3.827737  -1.053991  Normal 1\n",
       "  4996  -3.069048   3.993169  -0.659531  Normal 1\n",
       "  4997  -2.979979   4.018620  -0.977644  Normal 1\n",
       "  4998  -2.725495   4.069523  -1.206685  Normal 1\n",
       "  4999  -2.814564   3.954992  -1.359380  Normal 1\n",
       "  \n",
       "  [5000 rows x 4 columns],       current_r  current_s  current_t      file\n",
       "  5000  -2.381941   4.107699  -1.639319  Normal 1\n",
       "  5001  -2.471011   3.993169  -1.830187  Normal 1\n",
       "  5002  -2.012940   4.107699  -2.135575  Normal 1\n",
       "  5003  -2.051112   4.031346  -2.351892  Normal 1\n",
       "  5004  -1.554868   4.107699  -2.517310  Normal 1\n",
       "  ...         ...        ...        ...       ...\n",
       "  9995  -3.972467   0.493639   3.590456  Normal 1\n",
       "  9996  -3.959742   0.722699   3.475935  Normal 1\n",
       "  9997  -4.086984   1.015387   3.246894  Normal 1\n",
       "  9998  -3.959742   1.206271   3.056026  Normal 1\n",
       "  9999  -4.074260   1.460782   2.852434  Normal 1\n",
       "  \n",
       "  [5000 rows x 4 columns],        current_r  current_s  current_t      file\n",
       "  10000  -3.947018   1.638940   2.648842  Normal 1\n",
       "  10001  -4.112433   1.906177   2.445250  Normal 1\n",
       "  10002  -4.150605   2.084335   2.228933  Normal 1\n",
       "  10003  -4.061536   2.326120   2.025341  Normal 1\n",
       "  10004  -3.794328   2.491553   1.783575  Normal 1\n",
       "  ...          ...        ...        ...       ...\n",
       "  14995  -0.626002  -3.031342   3.259618  Normal 1\n",
       "  14996  -0.918658  -3.018616   4.175783  Normal 1\n",
       "  14997  -1.134970  -2.662301   3.412313  Normal 1\n",
       "  14998  -1.465799  -2.700477   4.442998  Normal 1\n",
       "  14999  -1.643938  -2.242357   3.615905  Normal 1\n",
       "  \n",
       "  [5000 rows x 4 columns],        current_r  current_s  current_t      file\n",
       "  15000  -1.949319  -2.293259   4.633866  Normal 1\n",
       "  15001  -2.089285  -1.873316   3.704976  Normal 1\n",
       "  15002  -2.381941  -1.949669   4.773835  Normal 1\n",
       "  15003  -2.509183  -1.542451   3.819497  Normal 1\n",
       "  15004  -2.776392  -1.644256   4.875631  Normal 1\n",
       "  ...          ...        ...        ...       ...\n",
       "  19995   2.720463  -4.342075   1.821748  Normal 1\n",
       "  19996   2.135150  -3.324030   1.592707  Normal 1\n",
       "  19997   2.351461  -4.532958   2.330729  Normal 1\n",
       "  19998   1.766148  -3.438560   1.898096  Normal 1\n",
       "  19999   2.058804  -4.685665   2.801536  Normal 1\n",
       "  \n",
       "  [5000 rows x 4 columns],        current_r  current_s  current_t      file\n",
       "  20000   1.422594  -3.527639   2.330729  Normal 1\n",
       "  20001   1.727975  -4.787470   2.992404  Normal 1\n",
       "  20002   1.117214  -3.616718   2.699740  Normal 1\n",
       "  20003   1.460767  -3.833052   3.208720  Normal 1\n",
       "  20004   0.875454  -3.654895   3.056026  Normal 1\n",
       "  ...          ...        ...        ...       ...\n",
       "  24995   3.420294  -2.000571  -1.690217  Normal 1\n",
       "  24996   4.769059  -2.904086  -1.702941  Normal 1\n",
       "  24997   3.203982  -2.305985  -1.219410  Normal 1\n",
       "  24998   4.667265  -2.815007  -1.219410  Normal 1\n",
       "  24999   3.267603  -2.675026  -0.723154  Normal 1\n",
       "  \n",
       "  [5000 rows x 4 columns],        current_r  current_s  current_t      file\n",
       "  25000   4.298264  -3.082244  -0.710429  Normal 1\n",
       "  25001   3.293052  -2.929537  -0.163275  Normal 1\n",
       "  25002   4.018331  -3.349481  -0.252347  Normal 1\n",
       "  25003   3.343949  -3.260402   0.256633  Normal 1\n",
       "  25004   3.738399  -3.578541   0.243909  Normal 1\n",
       "  ...          ...        ...        ...       ...\n",
       "  29995   2.720463   1.409880  -4.158772  Normal 1\n",
       "  29996   2.720463   1.066290  -4.235119  Normal 1\n",
       "  29997   3.089465   1.015387  -4.069701  Normal 1\n",
       "  29998   3.025844   0.659071  -4.184221  Normal 1\n",
       "  29999   3.420294   0.569993  -3.789761  Normal 1\n",
       "  \n",
       "  [5000 rows x 4 columns],        current_r  current_s  current_t      file\n",
       "  30000   3.254879  -0.104462  -3.993354  Normal 1\n",
       "  30001   3.649329   0.086421  -3.738863  Normal 1\n",
       "  30002   3.585708   0.837229  -3.777037  Normal 1\n",
       "  30003   3.802020  -0.409876  -3.560720  Normal 1\n",
       "  30004   3.891089  -0.728015  -3.878833  Normal 1\n",
       "  ...          ...        ...        ...       ...\n",
       "  34995  -0.918658   4.069523  -2.555484  Normal 1\n",
       "  34996  -0.549657   3.865913  -2.606382  Normal 1\n",
       "  34997  -0.549657   4.056797  -2.860872  Normal 1\n",
       "  34998  -0.282448   3.865913  -2.949944  Normal 1\n",
       "  34999  -0.231552   3.929541  -3.153536  Normal 1\n",
       "  \n",
       "  [5000 rows x 4 columns],        current_r  current_s  current_t      file\n",
       "  35000   0.099278   3.713207  -3.229883  Normal 1\n",
       "  35001   0.264692   3.713207  -3.433475  Normal 1\n",
       "  35002   0.442831   3.547774  -3.446200  Normal 1\n",
       "  35003   0.646418   3.471421  -3.598894  Normal 1\n",
       "  35004   0.926351   3.242361  -3.637067  Normal 1\n",
       "  ...          ...        ...        ...       ...\n",
       "  39995  -3.985191   2.949673   0.867410  Normal 1\n",
       "  39996  -3.947018   2.987850   1.172798  Normal 1\n",
       "  39997  -3.908846   4.680350   0.574746  Normal 1\n",
       "  39998  -3.832500   3.089654   0.714716  Normal 1\n",
       "  39999  -3.768879   3.382342   0.205735  Normal 1\n",
       "  \n",
       "  [5000 rows x 4 columns],        current_r  current_s  current_t      file\n",
       "  40000  -3.590740   3.407793  -0.010581  Normal 1\n",
       "  40001  -3.539844   3.815011  -0.290521  Normal 1\n",
       "  40002  -3.310808   3.789560  -0.277796  Normal 1\n",
       "  40003  -3.285360   3.929541  -0.761327  Normal 1\n",
       "  40004  -3.018151   3.611402  -0.672256  Normal 1\n",
       "  ...          ...        ...        ...       ...\n",
       "  44995  -3.578016  -0.689838   4.137610  Normal 1\n",
       "  44996  -3.374429  -0.218992   3.641354  Normal 1\n",
       "  44997  -4.086984  -0.129913   3.704976  Normal 1\n",
       "  44998  -3.641637   0.099147   3.565007  Normal 1\n",
       "  44999  -3.425326   0.302756   3.310516  Normal 1\n",
       "  \n",
       "  [5000 rows x 4 columns],        current_r  current_s  current_t      file\n",
       "  45000  -3.857949   0.659071   3.310516  Normal 1\n",
       "  45001  -3.374429   0.137323   2.890608  Normal 1\n",
       "  45002  -4.048812   1.168094   3.030577  Normal 1\n",
       "  45003  -3.488947   0.951759   2.445250  Normal 1\n",
       "  45004  -4.239675   1.715293   2.712464  Normal 1\n",
       "  ...          ...        ...        ...       ...\n",
       "  49995  -0.104310  -3.336755   3.768599  Normal 1\n",
       "  49996  -0.307897  -3.273128   3.908569  Normal 1\n",
       "  49997  -0.536932  -3.209500   4.086712  Normal 1\n",
       "  49998  -0.626002  -2.916812   3.946742  Normal 1\n",
       "  49999  -1.058625  -2.993165   4.430274  Normal 1\n",
       "  \n",
       "  [5000 rows x 4 columns]], [      current_r  current_s  current_t      file\n",
       "  0      0.035657  -1.402470   1.414564  Normal 2\n",
       "  1     -0.104310  -1.389744   1.478187  Normal 2\n",
       "  2     -0.218827  -1.338842   1.618156  Normal 2\n",
       "  3     -0.295173  -1.224312   1.579983  Normal 2\n",
       "  4     -0.486036  -1.275214   1.809024  Normal 2\n",
       "  ...         ...        ...        ...       ...\n",
       "  4995   0.022932   1.409880  -1.499349  Normal 2\n",
       "  4996   0.086553   1.448056  -1.524798  Normal 2\n",
       "  4997   0.213795   1.358977  -1.639319  Normal 2\n",
       "  4998   0.315589   1.320801  -1.664768  Normal 2\n",
       "  4999   0.493728   1.358977  -1.753839  Normal 2\n",
       "  \n",
       "  [5000 rows x 4 columns],       current_r  current_s  current_t      file\n",
       "  5000   0.506452   1.168094  -1.715666  Normal 2\n",
       "  5001   0.760936   1.117192  -1.715666  Normal 2\n",
       "  5002   0.735488   0.926308  -1.741115  Normal 2\n",
       "  5003   0.913626   0.888132  -1.702941  Normal 2\n",
       "  5004   0.926351   0.722699  -1.741115  Normal 2\n",
       "  ...         ...        ...        ...       ...\n",
       "  9995  -0.536932  -1.084331   1.669054  Normal 2\n",
       "  9996  -0.575105  -0.957075   1.490911  Normal 2\n",
       "  9997  -0.740520  -0.957075   1.745401  Normal 2\n",
       "  9998  -0.778692  -0.766192   1.465462  Normal 2\n",
       "  9999  -0.944107  -0.753466   1.796299  Normal 2\n",
       "  \n",
       "  [5000 rows x 4 columns],        current_r  current_s  current_t      file\n",
       "  10000  -0.956831  -0.562583   1.516360  Normal 2\n",
       "  10001  -1.134970  -0.524406   1.770850  Normal 2\n",
       "  10002  -1.173142  -0.282620   1.529085  Normal 2\n",
       "  10003  -1.325833  -0.231718   1.630881  Normal 2\n",
       "  10004  -1.389454   0.404560   1.465462  Normal 2\n",
       "  ...          ...        ...        ...       ...\n",
       "  14995   0.837281   0.569993  -1.524798  Normal 2\n",
       "  14996   1.015420   0.659071  -1.970156  Normal 2\n",
       "  14997   1.066317   0.353658  -1.537523  Normal 2\n",
       "  14998   1.168110   0.442737  -1.868360  Normal 2\n",
       "  14999   1.308077   0.162775  -1.537523  Normal 2\n",
       "  \n",
       "  [5000 rows x 4 columns],        current_r  current_s  current_t      file\n",
       "  15000   2.084253   0.137323  -1.550247  Normal 2\n",
       "  15001   1.613457  -0.104462  -1.461176  Normal 2\n",
       "  15002   1.435319  -0.129913  -1.346655  Normal 2\n",
       "  15003   1.562561  -0.358974  -1.359380  Normal 2\n",
       "  15004   1.498940  -0.320797  -1.041267  Normal 2\n",
       "  ...          ...        ...        ...       ...\n",
       "  19995  -1.427626  -0.142639   1.490911  Normal 2\n",
       "  19996  -1.465799   0.022793   1.376391  Normal 2\n",
       "  19997  -1.478523   0.124598   1.325493  Normal 2\n",
       "  19998  -1.656662   0.290030   1.325493  Normal 2\n",
       "  19999  -1.351281   0.315481   1.160074  Normal 2\n",
       "  \n",
       "  [5000 rows x 4 columns],        current_r  current_s  current_t      file\n",
       "  20000  -1.783904   0.582718   1.210972  Normal 2\n",
       "  20001  -1.440351   0.455462   0.892859  Normal 2\n",
       "  20002  -1.885698   0.837229   1.058278  Normal 2\n",
       "  20003  -1.503972   0.735425   0.651093  Normal 2\n",
       "  20004  -1.936594   1.104466   1.121900  Normal 2\n",
       "  ...          ...        ...        ...       ...\n",
       "  24995   1.778872  -0.562583  -1.219410  Normal 2\n",
       "  24996   1.511664  -0.549857  -0.990369  Normal 2\n",
       "  24997   1.931562  -0.728015  -0.964920  Normal 2\n",
       "  24998   1.269904  -0.740740  -0.774052  Normal 2\n",
       "  24999   1.944287  -0.931624  -0.735878  Normal 2\n",
       "  \n",
       "  [5000 rows x 4 columns],        current_r  current_s  current_t      file\n",
       "  25000   1.346249  -0.855271  -0.545011  Normal 2\n",
       "  25001   1.715251  -1.122507  -0.481388  Normal 2\n",
       "  25002   1.384422  -1.084331  -0.201449  Normal 2\n",
       "  25003   1.562561  -1.287940  -0.176000  Normal 2\n",
       "  25004   1.397146  -1.313391   0.014868  Normal 2\n",
       "  ...          ...        ...        ...       ...\n",
       "  29995  -1.465799   1.053564   0.612920  Normal 2\n",
       "  29996  -1.669386   1.168094   0.498399  Normal 2\n",
       "  29997  -1.325833   1.218996   0.243909  Normal 2\n",
       "  29998  -1.554868   1.346252   0.218460  Normal 2\n",
       "  29999  -1.351281   1.358977  -0.048755  Normal 2\n",
       "  \n",
       "  [5000 rows x 4 columns],        current_r  current_s  current_t      file\n",
       "  30000  -1.427626   1.511684  -0.061479  Normal 2\n",
       "  30001  -1.338557   1.575312  -0.226898  Normal 2\n",
       "  30002  -1.274936   1.626214  -0.315970  Normal 2\n",
       "  30003  -1.262212   1.804372  -0.405041  Normal 2\n",
       "  30004  -1.134970   1.677117  -0.532286  Normal 2\n",
       "  ...          ...        ...        ...       ...\n",
       "  34995   1.384422  -1.351568  -0.176000  Normal 2\n",
       "  34996   1.295352  -1.491549  -0.112377  Normal 2\n",
       "  34997   1.295352  -1.491549   0.053041  Normal 2\n",
       "  34998   1.282628  -1.504274   0.205735  Normal 2\n",
       "  34999   1.155386  -1.517000   0.396603  Normal 2\n",
       "  \n",
       "  [5000 rows x 4 columns],        current_r  current_s  current_t      file\n",
       "  35000   1.079041  -1.504274   0.460226  Normal 2\n",
       "  35001   0.964523  -1.669707   0.663818  Normal 2\n",
       "  35002   0.888178  -1.542451   0.765614  Normal 2\n",
       "  35003   0.773660  -1.720609   1.007380  Normal 2\n",
       "  35004   0.671867  -1.542451   0.791063  Normal 2\n",
       "  ...          ...        ...        ...       ...\n",
       "  39995  -1.185867   1.422605  -0.341419  Normal 2\n",
       "  39996  -1.160418   1.829823  -0.684980  Normal 2\n",
       "  39997  -0.995004   1.460782  -0.583184  Normal 2\n",
       "  39998  -0.918658   1.880726  -0.926746  Normal 2\n",
       "  39999  -0.753244   1.511684  -0.863124  Normal 2\n",
       "  \n",
       "  [5000 rows x 4 columns],        current_r  current_s  current_t      file\n",
       "  40000  -0.715071   1.944353  -1.168512  Normal 2\n",
       "  40001  -0.587829   1.498959  -1.041267  Normal 2\n",
       "  40002  -0.536932   1.906177  -1.346655  Normal 2\n",
       "  40003  -0.409690   1.511684  -1.283032  Normal 2\n",
       "  40004  -0.231552   1.549861  -1.372104  Normal 2\n",
       "  ...          ...        ...        ...       ...\n",
       "  44995   0.748212  -2.000571   1.134625  Normal 2\n",
       "  44996   0.430107  -1.478823   1.045553  Normal 2\n",
       "  44997   0.544625  -1.707883   1.300043  Normal 2\n",
       "  44998   0.213795  -1.491549   1.287319  Normal 2\n",
       "  44999   0.201071  -1.618804   1.401840  Normal 2\n",
       "  \n",
       "  [5000 rows x 4 columns],        current_r  current_s  current_t      file\n",
       "  45000   0.010208  -1.466098   1.452738  Normal 2\n",
       "  45001  -0.117034  -1.389744   1.516360  Normal 2\n",
       "  45002  -0.269724  -1.377019   1.643605  Normal 2\n",
       "  45003  -0.295173  -1.211586   1.579983  Normal 2\n",
       "  45004  -0.536932  -1.224312   1.834473  Normal 2\n",
       "  ...          ...        ...        ...       ...\n",
       "  49995  -0.015240   1.384429  -1.435727  Normal 2\n",
       "  49996   0.086553   1.371703  -1.512074  Normal 2\n",
       "  49997   0.226520   1.358977  -1.626594  Normal 2\n",
       "  49998   0.290141   1.244447  -1.588421  Normal 2\n",
       "  49999   0.493728   1.257173  -1.804737  Normal 2\n",
       "  \n",
       "  [5000 rows x 4 columns]]]"
      ]
     },
     "execution_count": 215,
     "metadata": {},
     "output_type": "execute_result"
    }
   ],
   "source": [
    "splitted_dataframes = []\n",
    "name = ['Falha 1', 'Falha 2', 'Falha 3', 'Normal 1', 'Normal 2']\n",
    "for index in range(len(DATAFRAMES)):\n",
    "    splitted_dataframes.append(split_df(DATAFRAMES[index]))\n",
    "\n",
    "\n",
    "for i in range(5):\n",
    "    for j in range(10):\n",
    "        splitted_dataframes[i][j]['file'] = name[i]\n",
    "splitted_dataframes"
   ]
  },
  {
   "cell_type": "markdown",
   "metadata": {},
   "source": [
    "### Extracting transform of HOS "
   ]
  },
  {
   "cell_type": "code",
   "execution_count": 277,
   "metadata": {},
   "outputs": [
    {
     "data": {
      "text/html": [
       "<div>\n",
       "<style scoped>\n",
       "    .dataframe tbody tr th:only-of-type {\n",
       "        vertical-align: middle;\n",
       "    }\n",
       "\n",
       "    .dataframe tbody tr th {\n",
       "        vertical-align: top;\n",
       "    }\n",
       "\n",
       "    .dataframe thead th {\n",
       "        text-align: right;\n",
       "    }\n",
       "</style>\n",
       "<table border=\"1\" class=\"dataframe\">\n",
       "  <thead>\n",
       "    <tr style=\"text-align: right;\">\n",
       "      <th></th>\n",
       "      <th>hos R</th>\n",
       "      <th>hos S</th>\n",
       "      <th>hos T</th>\n",
       "      <th>file</th>\n",
       "    </tr>\n",
       "  </thead>\n",
       "  <tbody>\n",
       "    <tr>\n",
       "      <th>0</th>\n",
       "      <td>1.298295</td>\n",
       "      <td>1.217003</td>\n",
       "      <td>1.253678</td>\n",
       "      <td>Falha 1</td>\n",
       "    </tr>\n",
       "    <tr>\n",
       "      <th>1</th>\n",
       "      <td>1.685867</td>\n",
       "      <td>1.481183</td>\n",
       "      <td>1.571981</td>\n",
       "      <td>Falha 1</td>\n",
       "    </tr>\n",
       "    <tr>\n",
       "      <th>2</th>\n",
       "      <td>-0.002830</td>\n",
       "      <td>0.008132</td>\n",
       "      <td>0.008624</td>\n",
       "      <td>Falha 1</td>\n",
       "    </tr>\n",
       "    <tr>\n",
       "      <th>3</th>\n",
       "      <td>-1.464775</td>\n",
       "      <td>-1.417600</td>\n",
       "      <td>-1.432403</td>\n",
       "      <td>Falha 1</td>\n",
       "    </tr>\n",
       "  </tbody>\n",
       "</table>\n",
       "</div>"
      ],
      "text/plain": [
       "      hos R     hos S     hos T     file\n",
       "0  1.298295  1.217003  1.253678  Falha 1\n",
       "1  1.685867  1.481183  1.571981  Falha 1\n",
       "2 -0.002830  0.008132  0.008624  Falha 1\n",
       "3 -1.464775 -1.417600 -1.432403  Falha 1"
      ]
     },
     "execution_count": 277,
     "metadata": {},
     "output_type": "execute_result"
    }
   ],
   "source": [
    "fundamentals = [43.85, 59.55, 59.42, 43.65, 59.27]\n",
    "hos_df = []\n",
    "\n",
    "for i in range(5):\n",
    "    res_df = []\n",
    "    \n",
    "    for j in range(10):\n",
    "        fe_hos = feature_extraction.HOS()\n",
    "        \n",
    "        hos_R = fe_hos.transform(splitted_dataframes[i][j].current_r)\n",
    "        hos_S = fe_hos.transform(splitted_dataframes[i][j].current_s)\n",
    "        hos_T = fe_hos.transform(splitted_dataframes[i][j].current_t)\n",
    "        \n",
    "        res_df.append(pd.DataFrame(data={'hos R': hos_R['features'],\n",
    "                                        'hos S': hos_S['features'],\n",
    "                                        'hos T': hos_T['features']}))\n",
    "    hos_df.append(res_df)\n",
    "    \n",
    "for i in range(5):\n",
    "    for j in range(10):\n",
    "        hos_df[i][j]['file'] = name[i]\n",
    "        \n",
    "hos_df[0][9]"
   ]
  },
  {
   "cell_type": "markdown",
   "metadata": {},
   "source": [
    "### Extracting transform of Fourier"
   ]
  },
  {
   "cell_type": "code",
   "execution_count": 281,
   "metadata": {},
   "outputs": [
    {
     "data": {
      "text/html": [
       "<div>\n",
       "<style scoped>\n",
       "    .dataframe tbody tr th:only-of-type {\n",
       "        vertical-align: middle;\n",
       "    }\n",
       "\n",
       "    .dataframe tbody tr th {\n",
       "        vertical-align: top;\n",
       "    }\n",
       "\n",
       "    .dataframe thead th {\n",
       "        text-align: right;\n",
       "    }\n",
       "</style>\n",
       "<table border=\"1\" class=\"dataframe\">\n",
       "  <thead>\n",
       "    <tr style=\"text-align: right;\">\n",
       "      <th></th>\n",
       "      <th>Fourier R</th>\n",
       "      <th>Fourier S</th>\n",
       "      <th>Fourier T</th>\n",
       "      <th>file</th>\n",
       "    </tr>\n",
       "  </thead>\n",
       "  <tbody>\n",
       "    <tr>\n",
       "      <th>0</th>\n",
       "      <td>0.020058</td>\n",
       "      <td>0.009898</td>\n",
       "      <td>0.008674</td>\n",
       "      <td>Falha 3</td>\n",
       "    </tr>\n",
       "    <tr>\n",
       "      <th>1</th>\n",
       "      <td>0.017140</td>\n",
       "      <td>0.011323</td>\n",
       "      <td>0.007258</td>\n",
       "      <td>Falha 3</td>\n",
       "    </tr>\n",
       "    <tr>\n",
       "      <th>2</th>\n",
       "      <td>0.019495</td>\n",
       "      <td>0.013612</td>\n",
       "      <td>0.008946</td>\n",
       "      <td>Falha 3</td>\n",
       "    </tr>\n",
       "    <tr>\n",
       "      <th>3</th>\n",
       "      <td>0.022746</td>\n",
       "      <td>0.016089</td>\n",
       "      <td>0.011682</td>\n",
       "      <td>Falha 3</td>\n",
       "    </tr>\n",
       "    <tr>\n",
       "      <th>4</th>\n",
       "      <td>0.031044</td>\n",
       "      <td>0.028744</td>\n",
       "      <td>0.020799</td>\n",
       "      <td>Falha 3</td>\n",
       "    </tr>\n",
       "    <tr>\n",
       "      <th>5</th>\n",
       "      <td>0.109249</td>\n",
       "      <td>0.079394</td>\n",
       "      <td>0.071168</td>\n",
       "      <td>Falha 3</td>\n",
       "    </tr>\n",
       "    <tr>\n",
       "      <th>6</th>\n",
       "      <td>0.135636</td>\n",
       "      <td>0.120469</td>\n",
       "      <td>0.100508</td>\n",
       "      <td>Falha 3</td>\n",
       "    </tr>\n",
       "  </tbody>\n",
       "</table>\n",
       "</div>"
      ],
      "text/plain": [
       "   Fourier R  Fourier S  Fourier T     file\n",
       "0   0.020058   0.009898   0.008674  Falha 3\n",
       "1   0.017140   0.011323   0.007258  Falha 3\n",
       "2   0.019495   0.013612   0.008946  Falha 3\n",
       "3   0.022746   0.016089   0.011682  Falha 3\n",
       "4   0.031044   0.028744   0.020799  Falha 3\n",
       "5   0.109249   0.079394   0.071168  Falha 3\n",
       "6   0.135636   0.120469   0.100508  Falha 3"
      ]
     },
     "execution_count": 281,
     "metadata": {},
     "output_type": "execute_result"
    }
   ],
   "source": [
    "fundamentals = [43.85, 59.55, 59.42, 43.65, 59.27]\n",
    "\n",
    "fourier_list_features_R = []\n",
    "fourier_list_features_S = []\n",
    "fourier_list_features_T = []\n",
    "fourier_df = []\n",
    "\n",
    "for i in range(5):\n",
    "    res_df = []\n",
    "    \n",
    "    for j in range(10):\n",
    "        fe_fourier = feature_extraction.Fourier(fundamental=fundamentals[i], \n",
    "                                                fs=500.0, \n",
    "                                                harmonics=(0.5, 1, 1.5, 2.5, 3, 5, 7))\n",
    "        fourier_R = fe_fourier.transform(splitted_dataframes[i][j].current_r)\n",
    "        fourier_S = fe_fourier.transform(splitted_dataframes[i][j].current_s)\n",
    "        fourier_T = fe_fourier.transform(splitted_dataframes[i][j].current_t)\n",
    "        \n",
    "        res_df.append(pd.DataFrame(data={'Fourier R': fourier_R['features'],\n",
    "                                        'Fourier S': fourier_S['features'],\n",
    "                                        'Fourier T': fourier_T['features']}))\n",
    "    fourier_df.append(res_df)\n",
    "    \n",
    "for i in range(5):\n",
    "    for j in range(10):\n",
    "        fourier_df[i][j]['file'] = name[i]\n",
    "        \n",
    "fourier_df[2][8]"
   ]
  },
  {
   "cell_type": "markdown",
   "metadata": {},
   "source": [
    "### c) Análise exploratória na base criada com os extratores de atributos\n",
    "- Use a ferramenta `pandas-profiling` https://github.com/pandas-profiling/pandas-profiling\n",
    "- Faça um resumo do relatório, destacando os principais pontos gerados na base.\n",
    "- Faça uma análise para cada uma das bases:\n",
    "    1. Features criada com Fourier\n",
    "    2. Features criada com HOS\n",
    "    3. Combinação das duas features (Fourier + HOS). \n",
    "> Dica: dê atenção ao coeficiente de correlação."
   ]
  },
  {
   "cell_type": "code",
   "execution_count": 256,
   "metadata": {},
   "outputs": [],
   "source": [
    "from pandas_profiling import ProfileReport\n",
    "import pandas as pd"
   ]
  },
  {
   "cell_type": "code",
   "execution_count": 282,
   "metadata": {},
   "outputs": [
    {
     "data": {
      "text/html": [
       "<div>\n",
       "<style scoped>\n",
       "    .dataframe tbody tr th:only-of-type {\n",
       "        vertical-align: middle;\n",
       "    }\n",
       "\n",
       "    .dataframe tbody tr th {\n",
       "        vertical-align: top;\n",
       "    }\n",
       "\n",
       "    .dataframe thead th {\n",
       "        text-align: right;\n",
       "    }\n",
       "</style>\n",
       "<table border=\"1\" class=\"dataframe\">\n",
       "  <thead>\n",
       "    <tr style=\"text-align: right;\">\n",
       "      <th></th>\n",
       "      <th>Fourier R</th>\n",
       "      <th>Fourier S</th>\n",
       "      <th>Fourier T</th>\n",
       "      <th>file</th>\n",
       "    </tr>\n",
       "  </thead>\n",
       "  <tbody>\n",
       "    <tr>\n",
       "      <th>0</th>\n",
       "      <td>0.021217</td>\n",
       "      <td>0.007768</td>\n",
       "      <td>0.013092</td>\n",
       "      <td>Falha 1</td>\n",
       "    </tr>\n",
       "    <tr>\n",
       "      <th>1</th>\n",
       "      <td>0.025605</td>\n",
       "      <td>0.013324</td>\n",
       "      <td>0.016948</td>\n",
       "      <td>Falha 1</td>\n",
       "    </tr>\n",
       "    <tr>\n",
       "      <th>2</th>\n",
       "      <td>0.021720</td>\n",
       "      <td>0.012515</td>\n",
       "      <td>0.015818</td>\n",
       "      <td>Falha 1</td>\n",
       "    </tr>\n",
       "    <tr>\n",
       "      <th>3</th>\n",
       "      <td>0.025310</td>\n",
       "      <td>0.016317</td>\n",
       "      <td>0.016890</td>\n",
       "      <td>Falha 1</td>\n",
       "    </tr>\n",
       "    <tr>\n",
       "      <th>4</th>\n",
       "      <td>0.027421</td>\n",
       "      <td>0.020085</td>\n",
       "      <td>0.020846</td>\n",
       "      <td>Falha 1</td>\n",
       "    </tr>\n",
       "    <tr>\n",
       "      <th>...</th>\n",
       "      <td>...</td>\n",
       "      <td>...</td>\n",
       "      <td>...</td>\n",
       "      <td>...</td>\n",
       "    </tr>\n",
       "    <tr>\n",
       "      <th>345</th>\n",
       "      <td>0.021587</td>\n",
       "      <td>0.014506</td>\n",
       "      <td>0.010458</td>\n",
       "      <td>Normal 2</td>\n",
       "    </tr>\n",
       "    <tr>\n",
       "      <th>346</th>\n",
       "      <td>0.024427</td>\n",
       "      <td>0.019574</td>\n",
       "      <td>0.014978</td>\n",
       "      <td>Normal 2</td>\n",
       "    </tr>\n",
       "    <tr>\n",
       "      <th>347</th>\n",
       "      <td>0.031097</td>\n",
       "      <td>0.021994</td>\n",
       "      <td>0.022024</td>\n",
       "      <td>Normal 2</td>\n",
       "    </tr>\n",
       "    <tr>\n",
       "      <th>348</th>\n",
       "      <td>0.096413</td>\n",
       "      <td>0.093136</td>\n",
       "      <td>0.088770</td>\n",
       "      <td>Normal 2</td>\n",
       "    </tr>\n",
       "    <tr>\n",
       "      <th>349</th>\n",
       "      <td>0.144949</td>\n",
       "      <td>0.151445</td>\n",
       "      <td>0.154601</td>\n",
       "      <td>Normal 2</td>\n",
       "    </tr>\n",
       "  </tbody>\n",
       "</table>\n",
       "<p>350 rows × 4 columns</p>\n",
       "</div>"
      ],
      "text/plain": [
       "     Fourier R  Fourier S  Fourier T      file\n",
       "0     0.021217   0.007768   0.013092   Falha 1\n",
       "1     0.025605   0.013324   0.016948   Falha 1\n",
       "2     0.021720   0.012515   0.015818   Falha 1\n",
       "3     0.025310   0.016317   0.016890   Falha 1\n",
       "4     0.027421   0.020085   0.020846   Falha 1\n",
       "..         ...        ...        ...       ...\n",
       "345   0.021587   0.014506   0.010458  Normal 2\n",
       "346   0.024427   0.019574   0.014978  Normal 2\n",
       "347   0.031097   0.021994   0.022024  Normal 2\n",
       "348   0.096413   0.093136   0.088770  Normal 2\n",
       "349   0.144949   0.151445   0.154601  Normal 2\n",
       "\n",
       "[350 rows x 4 columns]"
      ]
     },
     "execution_count": 282,
     "metadata": {},
     "output_type": "execute_result"
    }
   ],
   "source": [
    "hos_dataframe = pd.DataFrame(data=[])\n",
    "fourier_dataframe = pd.DataFrame(data=[])\n",
    "for i in range(5):\n",
    "    for j in range(10):\n",
    "        hos_dataframe = hos_dataframe.append(hos_df[i][j], ignore_index=True)\n",
    "        fourier_dataframe = fourier_dataframe.append(fourier_df[i][j], ignore_index=True)"
   ]
  },
  {
   "cell_type": "code",
   "execution_count": 283,
   "metadata": {},
   "outputs": [
    {
     "data": {
      "text/html": [
       "<div>\n",
       "<style scoped>\n",
       "    .dataframe tbody tr th:only-of-type {\n",
       "        vertical-align: middle;\n",
       "    }\n",
       "\n",
       "    .dataframe tbody tr th {\n",
       "        vertical-align: top;\n",
       "    }\n",
       "\n",
       "    .dataframe thead th {\n",
       "        text-align: right;\n",
       "    }\n",
       "</style>\n",
       "<table border=\"1\" class=\"dataframe\">\n",
       "  <thead>\n",
       "    <tr style=\"text-align: right;\">\n",
       "      <th></th>\n",
       "      <th>Fourier R</th>\n",
       "      <th>Fourier S</th>\n",
       "      <th>Fourier T</th>\n",
       "      <th>file</th>\n",
       "    </tr>\n",
       "  </thead>\n",
       "  <tbody>\n",
       "    <tr>\n",
       "      <th>0</th>\n",
       "      <td>0.021217</td>\n",
       "      <td>0.007768</td>\n",
       "      <td>0.013092</td>\n",
       "      <td>Falha 1</td>\n",
       "    </tr>\n",
       "    <tr>\n",
       "      <th>1</th>\n",
       "      <td>0.025605</td>\n",
       "      <td>0.013324</td>\n",
       "      <td>0.016948</td>\n",
       "      <td>Falha 1</td>\n",
       "    </tr>\n",
       "    <tr>\n",
       "      <th>2</th>\n",
       "      <td>0.021720</td>\n",
       "      <td>0.012515</td>\n",
       "      <td>0.015818</td>\n",
       "      <td>Falha 1</td>\n",
       "    </tr>\n",
       "    <tr>\n",
       "      <th>3</th>\n",
       "      <td>0.025310</td>\n",
       "      <td>0.016317</td>\n",
       "      <td>0.016890</td>\n",
       "      <td>Falha 1</td>\n",
       "    </tr>\n",
       "    <tr>\n",
       "      <th>4</th>\n",
       "      <td>0.027421</td>\n",
       "      <td>0.020085</td>\n",
       "      <td>0.020846</td>\n",
       "      <td>Falha 1</td>\n",
       "    </tr>\n",
       "    <tr>\n",
       "      <th>...</th>\n",
       "      <td>...</td>\n",
       "      <td>...</td>\n",
       "      <td>...</td>\n",
       "      <td>...</td>\n",
       "    </tr>\n",
       "    <tr>\n",
       "      <th>345</th>\n",
       "      <td>0.021587</td>\n",
       "      <td>0.014506</td>\n",
       "      <td>0.010458</td>\n",
       "      <td>Normal 2</td>\n",
       "    </tr>\n",
       "    <tr>\n",
       "      <th>346</th>\n",
       "      <td>0.024427</td>\n",
       "      <td>0.019574</td>\n",
       "      <td>0.014978</td>\n",
       "      <td>Normal 2</td>\n",
       "    </tr>\n",
       "    <tr>\n",
       "      <th>347</th>\n",
       "      <td>0.031097</td>\n",
       "      <td>0.021994</td>\n",
       "      <td>0.022024</td>\n",
       "      <td>Normal 2</td>\n",
       "    </tr>\n",
       "    <tr>\n",
       "      <th>348</th>\n",
       "      <td>0.096413</td>\n",
       "      <td>0.093136</td>\n",
       "      <td>0.088770</td>\n",
       "      <td>Normal 2</td>\n",
       "    </tr>\n",
       "    <tr>\n",
       "      <th>349</th>\n",
       "      <td>0.144949</td>\n",
       "      <td>0.151445</td>\n",
       "      <td>0.154601</td>\n",
       "      <td>Normal 2</td>\n",
       "    </tr>\n",
       "  </tbody>\n",
       "</table>\n",
       "<p>350 rows × 4 columns</p>\n",
       "</div>"
      ],
      "text/plain": [
       "     Fourier R  Fourier S  Fourier T      file\n",
       "0     0.021217   0.007768   0.013092   Falha 1\n",
       "1     0.025605   0.013324   0.016948   Falha 1\n",
       "2     0.021720   0.012515   0.015818   Falha 1\n",
       "3     0.025310   0.016317   0.016890   Falha 1\n",
       "4     0.027421   0.020085   0.020846   Falha 1\n",
       "..         ...        ...        ...       ...\n",
       "345   0.021587   0.014506   0.010458  Normal 2\n",
       "346   0.024427   0.019574   0.014978  Normal 2\n",
       "347   0.031097   0.021994   0.022024  Normal 2\n",
       "348   0.096413   0.093136   0.088770  Normal 2\n",
       "349   0.144949   0.151445   0.154601  Normal 2\n",
       "\n",
       "[350 rows x 4 columns]"
      ]
     },
     "execution_count": 283,
     "metadata": {},
     "output_type": "execute_result"
    }
   ],
   "source": [
    "fourier_dataframe"
   ]
  },
  {
   "cell_type": "code",
   "execution_count": 284,
   "metadata": {},
   "outputs": [
    {
     "data": {
      "text/html": [
       "<div>\n",
       "<style scoped>\n",
       "    .dataframe tbody tr th:only-of-type {\n",
       "        vertical-align: middle;\n",
       "    }\n",
       "\n",
       "    .dataframe tbody tr th {\n",
       "        vertical-align: top;\n",
       "    }\n",
       "\n",
       "    .dataframe thead th {\n",
       "        text-align: right;\n",
       "    }\n",
       "</style>\n",
       "<table border=\"1\" class=\"dataframe\">\n",
       "  <thead>\n",
       "    <tr style=\"text-align: right;\">\n",
       "      <th></th>\n",
       "      <th>hos R</th>\n",
       "      <th>hos S</th>\n",
       "      <th>hos T</th>\n",
       "      <th>file</th>\n",
       "    </tr>\n",
       "  </thead>\n",
       "  <tbody>\n",
       "    <tr>\n",
       "      <th>0</th>\n",
       "      <td>1.291684</td>\n",
       "      <td>1.211244</td>\n",
       "      <td>1.248681</td>\n",
       "      <td>Falha 1</td>\n",
       "    </tr>\n",
       "    <tr>\n",
       "      <th>1</th>\n",
       "      <td>1.668738</td>\n",
       "      <td>1.467376</td>\n",
       "      <td>1.559508</td>\n",
       "      <td>Falha 1</td>\n",
       "    </tr>\n",
       "    <tr>\n",
       "      <th>2</th>\n",
       "      <td>-0.004277</td>\n",
       "      <td>0.011664</td>\n",
       "      <td>0.006801</td>\n",
       "      <td>Falha 1</td>\n",
       "    </tr>\n",
       "    <tr>\n",
       "      <th>3</th>\n",
       "      <td>-1.446445</td>\n",
       "      <td>-1.418205</td>\n",
       "      <td>-1.415615</td>\n",
       "      <td>Falha 1</td>\n",
       "    </tr>\n",
       "    <tr>\n",
       "      <th>4</th>\n",
       "      <td>1.297518</td>\n",
       "      <td>1.211815</td>\n",
       "      <td>1.251374</td>\n",
       "      <td>Falha 1</td>\n",
       "    </tr>\n",
       "    <tr>\n",
       "      <th>...</th>\n",
       "      <td>...</td>\n",
       "      <td>...</td>\n",
       "      <td>...</td>\n",
       "      <td>...</td>\n",
       "    </tr>\n",
       "    <tr>\n",
       "      <th>195</th>\n",
       "      <td>-1.439527</td>\n",
       "      <td>-1.422116</td>\n",
       "      <td>-1.418499</td>\n",
       "      <td>Normal 2</td>\n",
       "    </tr>\n",
       "    <tr>\n",
       "      <th>196</th>\n",
       "      <td>1.181315</td>\n",
       "      <td>1.189472</td>\n",
       "      <td>1.193156</td>\n",
       "      <td>Normal 2</td>\n",
       "    </tr>\n",
       "    <tr>\n",
       "      <th>197</th>\n",
       "      <td>1.395459</td>\n",
       "      <td>1.414840</td>\n",
       "      <td>1.423878</td>\n",
       "      <td>Normal 2</td>\n",
       "    </tr>\n",
       "    <tr>\n",
       "      <th>198</th>\n",
       "      <td>0.013562</td>\n",
       "      <td>-0.003599</td>\n",
       "      <td>-0.004169</td>\n",
       "      <td>Normal 2</td>\n",
       "    </tr>\n",
       "    <tr>\n",
       "      <th>199</th>\n",
       "      <td>-1.418451</td>\n",
       "      <td>-1.436669</td>\n",
       "      <td>-1.454980</td>\n",
       "      <td>Normal 2</td>\n",
       "    </tr>\n",
       "  </tbody>\n",
       "</table>\n",
       "<p>200 rows × 4 columns</p>\n",
       "</div>"
      ],
      "text/plain": [
       "        hos R     hos S     hos T      file\n",
       "0    1.291684  1.211244  1.248681   Falha 1\n",
       "1    1.668738  1.467376  1.559508   Falha 1\n",
       "2   -0.004277  0.011664  0.006801   Falha 1\n",
       "3   -1.446445 -1.418205 -1.415615   Falha 1\n",
       "4    1.297518  1.211815  1.251374   Falha 1\n",
       "..        ...       ...       ...       ...\n",
       "195 -1.439527 -1.422116 -1.418499  Normal 2\n",
       "196  1.181315  1.189472  1.193156  Normal 2\n",
       "197  1.395459  1.414840  1.423878  Normal 2\n",
       "198  0.013562 -0.003599 -0.004169  Normal 2\n",
       "199 -1.418451 -1.436669 -1.454980  Normal 2\n",
       "\n",
       "[200 rows x 4 columns]"
      ]
     },
     "execution_count": 284,
     "metadata": {},
     "output_type": "execute_result"
    }
   ],
   "source": [
    "hos_dataframe"
   ]
  },
  {
   "cell_type": "code",
   "execution_count": 285,
   "metadata": {},
   "outputs": [],
   "source": [
    "fourier_hos_dataframe = fourier_dataframe.append(hos_dataframe, ignore_index=True)"
   ]
  },
  {
   "cell_type": "code",
   "execution_count": 286,
   "metadata": {},
   "outputs": [
    {
     "data": {
      "text/html": [
       "<div>\n",
       "<style scoped>\n",
       "    .dataframe tbody tr th:only-of-type {\n",
       "        vertical-align: middle;\n",
       "    }\n",
       "\n",
       "    .dataframe tbody tr th {\n",
       "        vertical-align: top;\n",
       "    }\n",
       "\n",
       "    .dataframe thead th {\n",
       "        text-align: right;\n",
       "    }\n",
       "</style>\n",
       "<table border=\"1\" class=\"dataframe\">\n",
       "  <thead>\n",
       "    <tr style=\"text-align: right;\">\n",
       "      <th></th>\n",
       "      <th>Fourier R</th>\n",
       "      <th>Fourier S</th>\n",
       "      <th>Fourier T</th>\n",
       "      <th>file</th>\n",
       "      <th>hos R</th>\n",
       "      <th>hos S</th>\n",
       "      <th>hos T</th>\n",
       "    </tr>\n",
       "  </thead>\n",
       "  <tbody>\n",
       "    <tr>\n",
       "      <th>0</th>\n",
       "      <td>0.021217</td>\n",
       "      <td>0.007768</td>\n",
       "      <td>0.013092</td>\n",
       "      <td>Falha 1</td>\n",
       "      <td>NaN</td>\n",
       "      <td>NaN</td>\n",
       "      <td>NaN</td>\n",
       "    </tr>\n",
       "    <tr>\n",
       "      <th>1</th>\n",
       "      <td>0.025605</td>\n",
       "      <td>0.013324</td>\n",
       "      <td>0.016948</td>\n",
       "      <td>Falha 1</td>\n",
       "      <td>NaN</td>\n",
       "      <td>NaN</td>\n",
       "      <td>NaN</td>\n",
       "    </tr>\n",
       "    <tr>\n",
       "      <th>2</th>\n",
       "      <td>0.021720</td>\n",
       "      <td>0.012515</td>\n",
       "      <td>0.015818</td>\n",
       "      <td>Falha 1</td>\n",
       "      <td>NaN</td>\n",
       "      <td>NaN</td>\n",
       "      <td>NaN</td>\n",
       "    </tr>\n",
       "    <tr>\n",
       "      <th>3</th>\n",
       "      <td>0.025310</td>\n",
       "      <td>0.016317</td>\n",
       "      <td>0.016890</td>\n",
       "      <td>Falha 1</td>\n",
       "      <td>NaN</td>\n",
       "      <td>NaN</td>\n",
       "      <td>NaN</td>\n",
       "    </tr>\n",
       "    <tr>\n",
       "      <th>4</th>\n",
       "      <td>0.027421</td>\n",
       "      <td>0.020085</td>\n",
       "      <td>0.020846</td>\n",
       "      <td>Falha 1</td>\n",
       "      <td>NaN</td>\n",
       "      <td>NaN</td>\n",
       "      <td>NaN</td>\n",
       "    </tr>\n",
       "    <tr>\n",
       "      <th>...</th>\n",
       "      <td>...</td>\n",
       "      <td>...</td>\n",
       "      <td>...</td>\n",
       "      <td>...</td>\n",
       "      <td>...</td>\n",
       "      <td>...</td>\n",
       "      <td>...</td>\n",
       "    </tr>\n",
       "    <tr>\n",
       "      <th>545</th>\n",
       "      <td>NaN</td>\n",
       "      <td>NaN</td>\n",
       "      <td>NaN</td>\n",
       "      <td>Normal 2</td>\n",
       "      <td>-1.439527</td>\n",
       "      <td>-1.422116</td>\n",
       "      <td>-1.418499</td>\n",
       "    </tr>\n",
       "    <tr>\n",
       "      <th>546</th>\n",
       "      <td>NaN</td>\n",
       "      <td>NaN</td>\n",
       "      <td>NaN</td>\n",
       "      <td>Normal 2</td>\n",
       "      <td>1.181315</td>\n",
       "      <td>1.189472</td>\n",
       "      <td>1.193156</td>\n",
       "    </tr>\n",
       "    <tr>\n",
       "      <th>547</th>\n",
       "      <td>NaN</td>\n",
       "      <td>NaN</td>\n",
       "      <td>NaN</td>\n",
       "      <td>Normal 2</td>\n",
       "      <td>1.395459</td>\n",
       "      <td>1.414840</td>\n",
       "      <td>1.423878</td>\n",
       "    </tr>\n",
       "    <tr>\n",
       "      <th>548</th>\n",
       "      <td>NaN</td>\n",
       "      <td>NaN</td>\n",
       "      <td>NaN</td>\n",
       "      <td>Normal 2</td>\n",
       "      <td>0.013562</td>\n",
       "      <td>-0.003599</td>\n",
       "      <td>-0.004169</td>\n",
       "    </tr>\n",
       "    <tr>\n",
       "      <th>549</th>\n",
       "      <td>NaN</td>\n",
       "      <td>NaN</td>\n",
       "      <td>NaN</td>\n",
       "      <td>Normal 2</td>\n",
       "      <td>-1.418451</td>\n",
       "      <td>-1.436669</td>\n",
       "      <td>-1.454980</td>\n",
       "    </tr>\n",
       "  </tbody>\n",
       "</table>\n",
       "<p>550 rows × 7 columns</p>\n",
       "</div>"
      ],
      "text/plain": [
       "     Fourier R  Fourier S  Fourier T      file     hos R     hos S     hos T\n",
       "0     0.021217   0.007768   0.013092   Falha 1       NaN       NaN       NaN\n",
       "1     0.025605   0.013324   0.016948   Falha 1       NaN       NaN       NaN\n",
       "2     0.021720   0.012515   0.015818   Falha 1       NaN       NaN       NaN\n",
       "3     0.025310   0.016317   0.016890   Falha 1       NaN       NaN       NaN\n",
       "4     0.027421   0.020085   0.020846   Falha 1       NaN       NaN       NaN\n",
       "..         ...        ...        ...       ...       ...       ...       ...\n",
       "545        NaN        NaN        NaN  Normal 2 -1.439527 -1.422116 -1.418499\n",
       "546        NaN        NaN        NaN  Normal 2  1.181315  1.189472  1.193156\n",
       "547        NaN        NaN        NaN  Normal 2  1.395459  1.414840  1.423878\n",
       "548        NaN        NaN        NaN  Normal 2  0.013562 -0.003599 -0.004169\n",
       "549        NaN        NaN        NaN  Normal 2 -1.418451 -1.436669 -1.454980\n",
       "\n",
       "[550 rows x 7 columns]"
      ]
     },
     "execution_count": 286,
     "metadata": {},
     "output_type": "execute_result"
    }
   ],
   "source": [
    "fourier_hos_dataframe"
   ]
  },
  {
   "cell_type": "code",
   "execution_count": 265,
   "metadata": {
    "scrolled": true
   },
   "outputs": [
    {
     "data": {
      "text/html": [
       "<div>\n",
       "<style scoped>\n",
       "    .dataframe tbody tr th:only-of-type {\n",
       "        vertical-align: middle;\n",
       "    }\n",
       "\n",
       "    .dataframe tbody tr th {\n",
       "        vertical-align: top;\n",
       "    }\n",
       "\n",
       "    .dataframe thead th {\n",
       "        text-align: right;\n",
       "    }\n",
       "</style>\n",
       "<table border=\"1\" class=\"dataframe\">\n",
       "  <thead>\n",
       "    <tr style=\"text-align: right;\">\n",
       "      <th></th>\n",
       "      <th>hos R</th>\n",
       "      <th>hos S</th>\n",
       "      <th>hos T</th>\n",
       "      <th>file</th>\n",
       "    </tr>\n",
       "  </thead>\n",
       "  <tbody>\n",
       "    <tr>\n",
       "      <th>0</th>\n",
       "      <td>1.291684</td>\n",
       "      <td>1.211244</td>\n",
       "      <td>1.248681</td>\n",
       "      <td>Falha 1</td>\n",
       "    </tr>\n",
       "    <tr>\n",
       "      <th>1</th>\n",
       "      <td>1.668738</td>\n",
       "      <td>1.467376</td>\n",
       "      <td>1.559508</td>\n",
       "      <td>Falha 1</td>\n",
       "    </tr>\n",
       "    <tr>\n",
       "      <th>2</th>\n",
       "      <td>-0.004277</td>\n",
       "      <td>0.011664</td>\n",
       "      <td>0.006801</td>\n",
       "      <td>Falha 1</td>\n",
       "    </tr>\n",
       "    <tr>\n",
       "      <th>3</th>\n",
       "      <td>-1.446445</td>\n",
       "      <td>-1.418205</td>\n",
       "      <td>-1.415615</td>\n",
       "      <td>Falha 1</td>\n",
       "    </tr>\n",
       "  </tbody>\n",
       "</table>\n",
       "</div>"
      ],
      "text/plain": [
       "      hos R     hos S     hos T     file\n",
       "0  1.291684  1.211244  1.248681  Falha 1\n",
       "1  1.668738  1.467376  1.559508  Falha 1\n",
       "2 -0.004277  0.011664  0.006801  Falha 1\n",
       "3 -1.446445 -1.418205 -1.415615  Falha 1"
      ]
     },
     "execution_count": 265,
     "metadata": {},
     "output_type": "execute_result"
    }
   ],
   "source": [
    "fourier_df[0][0]"
   ]
  },
  {
   "cell_type": "code",
   "execution_count": 287,
   "metadata": {},
   "outputs": [
    {
     "data": {
      "application/vnd.jupyter.widget-view+json": {
       "model_id": "",
       "version_major": 2,
       "version_minor": 0
      },
      "text/plain": [
       "HBox(children=(FloatProgress(value=0.0, description='variables', max=4.0, style=ProgressStyle(description_widt…"
      ]
     },
     "metadata": {},
     "output_type": "display_data"
    },
    {
     "name": "stdout",
     "output_type": "stream",
     "text": [
      "\n"
     ]
    },
    {
     "data": {
      "application/vnd.jupyter.widget-view+json": {
       "model_id": "",
       "version_major": 2,
       "version_minor": 0
      },
      "text/plain": [
       "HBox(children=(FloatProgress(value=0.0, description='correlations', max=6.0, style=ProgressStyle(description_w…"
      ]
     },
     "metadata": {},
     "output_type": "display_data"
    },
    {
     "name": "stdout",
     "output_type": "stream",
     "text": [
      "\n"
     ]
    },
    {
     "data": {
      "application/vnd.jupyter.widget-view+json": {
       "model_id": "",
       "version_major": 2,
       "version_minor": 0
      },
      "text/plain": [
       "HBox(children=(FloatProgress(value=0.0, description='interactions [continuous]', max=9.0, style=ProgressStyle(…"
      ]
     },
     "metadata": {},
     "output_type": "display_data"
    },
    {
     "name": "stdout",
     "output_type": "stream",
     "text": [
      "\n"
     ]
    },
    {
     "data": {
      "application/vnd.jupyter.widget-view+json": {
       "model_id": "",
       "version_major": 2,
       "version_minor": 0
      },
      "text/plain": [
       "HBox(children=(FloatProgress(value=0.0, description='table', max=1.0, style=ProgressStyle(description_width='i…"
      ]
     },
     "metadata": {},
     "output_type": "display_data"
    },
    {
     "name": "stdout",
     "output_type": "stream",
     "text": [
      "\n"
     ]
    },
    {
     "data": {
      "application/vnd.jupyter.widget-view+json": {
       "model_id": "",
       "version_major": 2,
       "version_minor": 0
      },
      "text/plain": [
       "HBox(children=(FloatProgress(value=0.0, description='missing', max=2.0, style=ProgressStyle(description_width=…"
      ]
     },
     "metadata": {},
     "output_type": "display_data"
    },
    {
     "name": "stdout",
     "output_type": "stream",
     "text": [
      "\n"
     ]
    },
    {
     "data": {
      "application/vnd.jupyter.widget-view+json": {
       "model_id": "",
       "version_major": 2,
       "version_minor": 0
      },
      "text/plain": [
       "HBox(children=(FloatProgress(value=0.0, description='warnings', max=3.0, style=ProgressStyle(description_width…"
      ]
     },
     "metadata": {},
     "output_type": "display_data"
    },
    {
     "name": "stdout",
     "output_type": "stream",
     "text": [
      "\n"
     ]
    },
    {
     "data": {
      "application/vnd.jupyter.widget-view+json": {
       "model_id": "",
       "version_major": 2,
       "version_minor": 0
      },
      "text/plain": [
       "HBox(children=(FloatProgress(value=0.0, description='package', max=1.0, style=ProgressStyle(description_width=…"
      ]
     },
     "metadata": {},
     "output_type": "display_data"
    },
    {
     "name": "stdout",
     "output_type": "stream",
     "text": [
      "\n"
     ]
    },
    {
     "data": {
      "application/vnd.jupyter.widget-view+json": {
       "model_id": "",
       "version_major": 2,
       "version_minor": 0
      },
      "text/plain": [
       "HBox(children=(FloatProgress(value=0.0, description='build report structure', max=1.0, style=ProgressStyle(des…"
      ]
     },
     "metadata": {},
     "output_type": "display_data"
    },
    {
     "name": "stdout",
     "output_type": "stream",
     "text": [
      "\n"
     ]
    },
    {
     "data": {
      "application/vnd.jupyter.widget-view+json": {
       "model_id": "",
       "version_major": 2,
       "version_minor": 0
      },
      "text/plain": [
       "Tab(children=(Tab(children=(GridBox(children=(VBox(children=(GridspecLayout(children=(HTML(value='Number of va…"
      ]
     },
     "metadata": {},
     "output_type": "display_data"
    },
    {
     "data": {
      "text/html": [
       "Report generated with <a href=\"https://github.com/pandas-profiling/pandas-profiling\">pandas-profiling</a>."
      ],
      "text/plain": [
       "<IPython.core.display.HTML object>"
      ]
     },
     "metadata": {},
     "output_type": "display_data"
    }
   ],
   "source": [
    "profile = ProfileReport(hos_dataframe, title='Pandas Profiling Report', html={'style':{'full_width':True}})\n",
    "profile.to_widgets()"
   ]
  },
  {
   "cell_type": "code",
   "execution_count": 288,
   "metadata": {},
   "outputs": [
    {
     "data": {
      "application/vnd.jupyter.widget-view+json": {
       "model_id": "e637fab7c37f43f594b780741a8c99d5",
       "version_major": 2,
       "version_minor": 0
      },
      "text/plain": [
       "HBox(children=(FloatProgress(value=0.0, description='variables', max=4.0, style=ProgressStyle(description_widt…"
      ]
     },
     "metadata": {},
     "output_type": "display_data"
    },
    {
     "name": "stdout",
     "output_type": "stream",
     "text": [
      "\n"
     ]
    },
    {
     "data": {
      "application/vnd.jupyter.widget-view+json": {
       "model_id": "332385e805d345c59ee8c071468df59d",
       "version_major": 2,
       "version_minor": 0
      },
      "text/plain": [
       "HBox(children=(FloatProgress(value=0.0, description='correlations', max=6.0, style=ProgressStyle(description_w…"
      ]
     },
     "metadata": {},
     "output_type": "display_data"
    },
    {
     "name": "stdout",
     "output_type": "stream",
     "text": [
      "\n"
     ]
    },
    {
     "data": {
      "application/vnd.jupyter.widget-view+json": {
       "model_id": "6af6ff8988014515ba4ddce70b7a5525",
       "version_major": 2,
       "version_minor": 0
      },
      "text/plain": [
       "HBox(children=(FloatProgress(value=0.0, description='interactions [continuous]', max=9.0, style=ProgressStyle(…"
      ]
     },
     "metadata": {},
     "output_type": "display_data"
    },
    {
     "name": "stdout",
     "output_type": "stream",
     "text": [
      "\n"
     ]
    },
    {
     "data": {
      "application/vnd.jupyter.widget-view+json": {
       "model_id": "c9ee89c036754d92a3866e4a714fec46",
       "version_major": 2,
       "version_minor": 0
      },
      "text/plain": [
       "HBox(children=(FloatProgress(value=0.0, description='table', max=1.0, style=ProgressStyle(description_width='i…"
      ]
     },
     "metadata": {},
     "output_type": "display_data"
    },
    {
     "name": "stdout",
     "output_type": "stream",
     "text": [
      "\n"
     ]
    },
    {
     "data": {
      "application/vnd.jupyter.widget-view+json": {
       "model_id": "26e79a59280e455cb48f38388ce3ce2f",
       "version_major": 2,
       "version_minor": 0
      },
      "text/plain": [
       "HBox(children=(FloatProgress(value=0.0, description='missing', max=2.0, style=ProgressStyle(description_width=…"
      ]
     },
     "metadata": {},
     "output_type": "display_data"
    },
    {
     "name": "stdout",
     "output_type": "stream",
     "text": [
      "\n"
     ]
    },
    {
     "data": {
      "application/vnd.jupyter.widget-view+json": {
       "model_id": "551a8a8da0414ebba66b309adc7bec3c",
       "version_major": 2,
       "version_minor": 0
      },
      "text/plain": [
       "HBox(children=(FloatProgress(value=0.0, description='warnings', max=3.0, style=ProgressStyle(description_width…"
      ]
     },
     "metadata": {},
     "output_type": "display_data"
    },
    {
     "name": "stdout",
     "output_type": "stream",
     "text": [
      "\n"
     ]
    },
    {
     "data": {
      "application/vnd.jupyter.widget-view+json": {
       "model_id": "35f62a526ce84941b9618aee4f0159f0",
       "version_major": 2,
       "version_minor": 0
      },
      "text/plain": [
       "HBox(children=(FloatProgress(value=0.0, description='package', max=1.0, style=ProgressStyle(description_width=…"
      ]
     },
     "metadata": {},
     "output_type": "display_data"
    },
    {
     "name": "stdout",
     "output_type": "stream",
     "text": [
      "\n"
     ]
    },
    {
     "data": {
      "application/vnd.jupyter.widget-view+json": {
       "model_id": "7213494874dd4940a34d56a64819e649",
       "version_major": 2,
       "version_minor": 0
      },
      "text/plain": [
       "HBox(children=(FloatProgress(value=0.0, description='build report structure', max=1.0, style=ProgressStyle(des…"
      ]
     },
     "metadata": {},
     "output_type": "display_data"
    },
    {
     "name": "stdout",
     "output_type": "stream",
     "text": [
      "\n"
     ]
    },
    {
     "data": {
      "application/vnd.jupyter.widget-view+json": {
       "model_id": "43d398175484497b88fd99f337a00293",
       "version_major": 2,
       "version_minor": 0
      },
      "text/plain": [
       "Tab(children=(Tab(children=(GridBox(children=(VBox(children=(GridspecLayout(children=(HTML(value='Number of va…"
      ]
     },
     "metadata": {},
     "output_type": "display_data"
    },
    {
     "data": {
      "text/html": [
       "Report generated with <a href=\"https://github.com/pandas-profiling/pandas-profiling\">pandas-profiling</a>."
      ],
      "text/plain": [
       "<IPython.core.display.HTML object>"
      ]
     },
     "metadata": {},
     "output_type": "display_data"
    }
   ],
   "source": [
    "profile = ProfileReport(fourier_dataframe, title='Pandas Profiling Report', html={'style':{'full_width':True}})\n",
    "profile.to_widgets()"
   ]
  },
  {
   "cell_type": "code",
   "execution_count": 290,
   "metadata": {},
   "outputs": [
    {
     "data": {
      "application/vnd.jupyter.widget-view+json": {
       "model_id": "00089f9dbc6144ff9ff30f9d65cedbe2",
       "version_major": 2,
       "version_minor": 0
      },
      "text/plain": [
       "HBox(children=(FloatProgress(value=0.0, description='variables', max=7.0, style=ProgressStyle(description_widt…"
      ]
     },
     "metadata": {},
     "output_type": "display_data"
    },
    {
     "name": "stdout",
     "output_type": "stream",
     "text": [
      "\n"
     ]
    },
    {
     "data": {
      "application/vnd.jupyter.widget-view+json": {
       "model_id": "34826e47f66f4d5caddc2d6d148e0628",
       "version_major": 2,
       "version_minor": 0
      },
      "text/plain": [
       "HBox(children=(FloatProgress(value=0.0, description='correlations', max=6.0, style=ProgressStyle(description_w…"
      ]
     },
     "metadata": {},
     "output_type": "display_data"
    },
    {
     "name": "stdout",
     "output_type": "stream",
     "text": [
      "\n"
     ]
    },
    {
     "data": {
      "application/vnd.jupyter.widget-view+json": {
       "model_id": "00bfa9e6ed6f4a78a63b4b986e34da15",
       "version_major": 2,
       "version_minor": 0
      },
      "text/plain": [
       "HBox(children=(FloatProgress(value=0.0, description='interactions [continuous]', max=36.0, style=ProgressStyle…"
      ]
     },
     "metadata": {},
     "output_type": "display_data"
    },
    {
     "name": "stdout",
     "output_type": "stream",
     "text": [
      "\n"
     ]
    },
    {
     "data": {
      "application/vnd.jupyter.widget-view+json": {
       "model_id": "6c716308f3dc41bf864351069d78bac1",
       "version_major": 2,
       "version_minor": 0
      },
      "text/plain": [
       "HBox(children=(FloatProgress(value=0.0, description='table', max=1.0, style=ProgressStyle(description_width='i…"
      ]
     },
     "metadata": {},
     "output_type": "display_data"
    },
    {
     "name": "stdout",
     "output_type": "stream",
     "text": [
      "\n"
     ]
    },
    {
     "data": {
      "application/vnd.jupyter.widget-view+json": {
       "model_id": "8b47ec319fba465f8685eebb54451e46",
       "version_major": 2,
       "version_minor": 0
      },
      "text/plain": [
       "HBox(children=(FloatProgress(value=0.0, description='missing', max=4.0, style=ProgressStyle(description_width=…"
      ]
     },
     "metadata": {},
     "output_type": "display_data"
    },
    {
     "name": "stdout",
     "output_type": "stream",
     "text": [
      "\n"
     ]
    },
    {
     "data": {
      "application/vnd.jupyter.widget-view+json": {
       "model_id": "5eb5583212a049be94ef2d7769805a2c",
       "version_major": 2,
       "version_minor": 0
      },
      "text/plain": [
       "HBox(children=(FloatProgress(value=0.0, description='warnings', max=3.0, style=ProgressStyle(description_width…"
      ]
     },
     "metadata": {},
     "output_type": "display_data"
    },
    {
     "name": "stdout",
     "output_type": "stream",
     "text": [
      "\n"
     ]
    },
    {
     "data": {
      "application/vnd.jupyter.widget-view+json": {
       "model_id": "4b03f51679244c6ea594b6747445228c",
       "version_major": 2,
       "version_minor": 0
      },
      "text/plain": [
       "HBox(children=(FloatProgress(value=0.0, description='package', max=1.0, style=ProgressStyle(description_width=…"
      ]
     },
     "metadata": {},
     "output_type": "display_data"
    },
    {
     "name": "stdout",
     "output_type": "stream",
     "text": [
      "\n"
     ]
    },
    {
     "data": {
      "application/vnd.jupyter.widget-view+json": {
       "model_id": "aebcad4ebd99479880e5535e00a9e6db",
       "version_major": 2,
       "version_minor": 0
      },
      "text/plain": [
       "HBox(children=(FloatProgress(value=0.0, description='build report structure', max=1.0, style=ProgressStyle(des…"
      ]
     },
     "metadata": {},
     "output_type": "display_data"
    },
    {
     "name": "stdout",
     "output_type": "stream",
     "text": [
      "\n"
     ]
    },
    {
     "data": {
      "application/vnd.jupyter.widget-view+json": {
       "model_id": "0e93809312a94ed3954f6502f691f4f0",
       "version_major": 2,
       "version_minor": 0
      },
      "text/plain": [
       "Tab(children=(Tab(children=(GridBox(children=(VBox(children=(GridspecLayout(children=(HTML(value='Number of va…"
      ]
     },
     "metadata": {},
     "output_type": "display_data"
    },
    {
     "data": {
      "text/html": [
       "Report generated with <a href=\"https://github.com/pandas-profiling/pandas-profiling\">pandas-profiling</a>."
      ],
      "text/plain": [
       "<IPython.core.display.HTML object>"
      ]
     },
     "metadata": {},
     "output_type": "display_data"
    }
   ],
   "source": [
    "profile = ProfileReport(fourier_hos_dataframe, title='Pandas Profiling Report', html={'style':{'full_width':True}})\n",
    "profile.to_widgets()"
   ]
  },
  {
   "cell_type": "markdown",
   "metadata": {},
   "source": [
    "# Feature Selection"
   ]
  },
  {
   "cell_type": "markdown",
   "metadata": {},
   "source": [
    "## 1. Realizar um estudo de relevância de atributos utilzando as técnicas exibidas na aula.\n",
    "\n",
    "Nesse momento utilize a base de dados `Clinical_data_09-09-19-processed.csv`. Uma breve descrição da base:\n",
    "- Contém um histórico dos registros de pacientes acometidos com uma determinada patologia.\n",
    "- Os registros são variados, vão desde resposta de questionários médicos de anamnese, por exemplo, \"*É fumante nos últimos 5 anos?*\", \"*Faz uso de álcool constantemente?*\", até resultados de exames clínicos como ECG e Ecocardiograma.\n",
    "- O rótulo dessa base é a coluna `Óbito`."
   ]
  },
  {
   "cell_type": "markdown",
   "metadata": {},
   "source": [
    "### Carregue a base"
   ]
  },
  {
   "cell_type": "code",
   "execution_count": 1,
   "metadata": {},
   "outputs": [],
   "source": [
    "from pandas_profiling import ProfileReport\n",
    "import pandas as pd"
   ]
  },
  {
   "cell_type": "code",
   "execution_count": null,
   "metadata": {},
   "outputs": [],
   "source": []
  },
  {
   "cell_type": "code",
   "execution_count": 2,
   "metadata": {},
   "outputs": [],
   "source": [
    "df_clinical = pd.read_csv(\"data/Clinical_data_09-09-19-processed.csv\")"
   ]
  },
  {
   "cell_type": "code",
   "execution_count": 3,
   "metadata": {},
   "outputs": [
    {
     "data": {
      "text/html": [
       "<div>\n",
       "<style scoped>\n",
       "    .dataframe tbody tr th:only-of-type {\n",
       "        vertical-align: middle;\n",
       "    }\n",
       "\n",
       "    .dataframe tbody tr th {\n",
       "        vertical-align: top;\n",
       "    }\n",
       "\n",
       "    .dataframe thead th {\n",
       "        text-align: right;\n",
       "    }\n",
       "</style>\n",
       "<table border=\"1\" class=\"dataframe\">\n",
       "  <thead>\n",
       "    <tr style=\"text-align: right;\">\n",
       "      <th></th>\n",
       "      <th>Paciente</th>\n",
       "      <th>Nome do Paciente</th>\n",
       "      <th>Prontuario</th>\n",
       "      <th>Date Nasc</th>\n",
       "      <th>Sexo</th>\n",
       "      <th>Nat.</th>\n",
       "      <th>BMI</th>\n",
       "      <th>Cancer</th>\n",
       "      <th>HAS</th>\n",
       "      <th>DM2</th>\n",
       "      <th>...</th>\n",
       "      <th>Disf Diastolica</th>\n",
       "      <th>Deficit Seg</th>\n",
       "      <th>NYHA</th>\n",
       "      <th>Rassi pontos</th>\n",
       "      <th>Rassi escore</th>\n",
       "      <th>Diretriz 2005</th>\n",
       "      <th>CDI</th>\n",
       "      <th>Ablações</th>\n",
       "      <th>Amiodarona</th>\n",
       "      <th>Obito</th>\n",
       "    </tr>\n",
       "  </thead>\n",
       "  <tbody>\n",
       "    <tr>\n",
       "      <th>0</th>\n",
       "      <td>NaN</td>\n",
       "      <td>Adão Severo de Souza</td>\n",
       "      <td>333104.0</td>\n",
       "      <td>29/11/1950</td>\n",
       "      <td>1.0</td>\n",
       "      <td>PI</td>\n",
       "      <td>25</td>\n",
       "      <td>0</td>\n",
       "      <td>1.0</td>\n",
       "      <td>1.0</td>\n",
       "      <td>...</td>\n",
       "      <td>1</td>\n",
       "      <td>0</td>\n",
       "      <td>1</td>\n",
       "      <td>2.0</td>\n",
       "      <td>1.0</td>\n",
       "      <td>1.0</td>\n",
       "      <td>0</td>\n",
       "      <td>0</td>\n",
       "      <td>0</td>\n",
       "      <td>0.0</td>\n",
       "    </tr>\n",
       "    <tr>\n",
       "      <th>1</th>\n",
       "      <td>NaN</td>\n",
       "      <td>Adão Severo de Souza</td>\n",
       "      <td>333104.0</td>\n",
       "      <td>29/11/1950</td>\n",
       "      <td>1.0</td>\n",
       "      <td>PI</td>\n",
       "      <td>23</td>\n",
       "      <td>0</td>\n",
       "      <td>1.0</td>\n",
       "      <td>1.0</td>\n",
       "      <td>...</td>\n",
       "      <td>1</td>\n",
       "      <td>0</td>\n",
       "      <td>1</td>\n",
       "      <td>2.0</td>\n",
       "      <td>1.0</td>\n",
       "      <td>1.0</td>\n",
       "      <td>0</td>\n",
       "      <td>0</td>\n",
       "      <td>0</td>\n",
       "      <td>0.0</td>\n",
       "    </tr>\n",
       "    <tr>\n",
       "      <th>2</th>\n",
       "      <td>NaN</td>\n",
       "      <td>Adão Severo de Souza</td>\n",
       "      <td>333104.0</td>\n",
       "      <td>29/11/1950</td>\n",
       "      <td>1.0</td>\n",
       "      <td>PI</td>\n",
       "      <td>24</td>\n",
       "      <td>0</td>\n",
       "      <td>1.0</td>\n",
       "      <td>1.0</td>\n",
       "      <td>...</td>\n",
       "      <td>1</td>\n",
       "      <td>0</td>\n",
       "      <td>1</td>\n",
       "      <td>2.0</td>\n",
       "      <td>1.0</td>\n",
       "      <td>1.0</td>\n",
       "      <td>0</td>\n",
       "      <td>0</td>\n",
       "      <td>0</td>\n",
       "      <td>0.0</td>\n",
       "    </tr>\n",
       "    <tr>\n",
       "      <th>3</th>\n",
       "      <td>NaN</td>\n",
       "      <td>Adão Severo de Souza</td>\n",
       "      <td>333104.0</td>\n",
       "      <td>29/11/1950</td>\n",
       "      <td>1.0</td>\n",
       "      <td>PI</td>\n",
       "      <td>26</td>\n",
       "      <td>0</td>\n",
       "      <td>1.0</td>\n",
       "      <td>1.0</td>\n",
       "      <td>...</td>\n",
       "      <td>1</td>\n",
       "      <td>0</td>\n",
       "      <td>1</td>\n",
       "      <td>2.0</td>\n",
       "      <td>1.0</td>\n",
       "      <td>1.0</td>\n",
       "      <td>0</td>\n",
       "      <td>0</td>\n",
       "      <td>0</td>\n",
       "      <td>0.0</td>\n",
       "    </tr>\n",
       "    <tr>\n",
       "      <th>4</th>\n",
       "      <td>NaN</td>\n",
       "      <td>Adão Severo de Souza</td>\n",
       "      <td>333104.0</td>\n",
       "      <td>29/11/1950</td>\n",
       "      <td>1.0</td>\n",
       "      <td>PI</td>\n",
       "      <td>25</td>\n",
       "      <td>0</td>\n",
       "      <td>1.0</td>\n",
       "      <td>1.0</td>\n",
       "      <td>...</td>\n",
       "      <td>1</td>\n",
       "      <td>0</td>\n",
       "      <td>1</td>\n",
       "      <td>2.0</td>\n",
       "      <td>1.0</td>\n",
       "      <td>1.0</td>\n",
       "      <td>0</td>\n",
       "      <td>0</td>\n",
       "      <td>0</td>\n",
       "      <td>0.0</td>\n",
       "    </tr>\n",
       "  </tbody>\n",
       "</table>\n",
       "<p>5 rows × 60 columns</p>\n",
       "</div>"
      ],
      "text/plain": [
       "  Paciente      Nome do Paciente  Prontuario  Date Nasc   Sexo Nat.  BMI   \\\n",
       "0      NaN  Adão Severo de Souza    333104.0  29/11/1950   1.0   PI    25   \n",
       "1      NaN  Adão Severo de Souza    333104.0  29/11/1950   1.0   PI    23   \n",
       "2      NaN  Adão Severo de Souza    333104.0  29/11/1950   1.0   PI    24   \n",
       "3      NaN  Adão Severo de Souza    333104.0  29/11/1950   1.0   PI    26   \n",
       "4      NaN  Adão Severo de Souza    333104.0  29/11/1950   1.0   PI    25   \n",
       "\n",
       "   Cancer  HAS  DM2  ...  Disf Diastolica  Deficit Seg  NYHA  Rassi pontos  \\\n",
       "0       0  1.0  1.0  ...                1            0     1           2.0   \n",
       "1       0  1.0  1.0  ...                1            0     1           2.0   \n",
       "2       0  1.0  1.0  ...                1            0     1           2.0   \n",
       "3       0  1.0  1.0  ...                1            0     1           2.0   \n",
       "4       0  1.0  1.0  ...                1            0     1           2.0   \n",
       "\n",
       "   Rassi escore  Diretriz 2005  CDI   Ablações  Amiodarona  Obito  \n",
       "0           1.0            1.0     0         0           0    0.0  \n",
       "1           1.0            1.0     0         0           0    0.0  \n",
       "2           1.0            1.0     0         0           0    0.0  \n",
       "3           1.0            1.0     0         0           0    0.0  \n",
       "4           1.0            1.0     0         0           0    0.0  \n",
       "\n",
       "[5 rows x 60 columns]"
      ]
     },
     "execution_count": 3,
     "metadata": {},
     "output_type": "execute_result"
    }
   ],
   "source": [
    "df_clinical.head()"
   ]
  },
  {
   "cell_type": "markdown",
   "metadata": {},
   "source": [
    "### a) Análise exploratória na base de dados\n",
    "- Use a ferramenta `pandas-profiling` https://github.com/pandas-profiling/pandas-profiling\n",
    "- Faça um resumo do relatório, destacando os principais pontos gerados na base."
   ]
  },
  {
   "cell_type": "code",
   "execution_count": 4,
   "metadata": {},
   "outputs": [
    {
     "data": {
      "application/vnd.jupyter.widget-view+json": {
       "model_id": "6b046185f14f4c718456f3fc403910f4",
       "version_major": 2,
       "version_minor": 0
      },
      "text/plain": [
       "HBox(children=(FloatProgress(value=0.0, description='variables', max=60.0, style=ProgressStyle(description_wid…"
      ]
     },
     "metadata": {},
     "output_type": "display_data"
    },
    {
     "name": "stdout",
     "output_type": "stream",
     "text": [
      "\n"
     ]
    },
    {
     "data": {
      "application/vnd.jupyter.widget-view+json": {
       "model_id": "be0c9a34e450467988ff08748771f315",
       "version_major": 2,
       "version_minor": 0
      },
      "text/plain": [
       "HBox(children=(FloatProgress(value=0.0, description='correlations', max=6.0, style=ProgressStyle(description_w…"
      ]
     },
     "metadata": {},
     "output_type": "display_data"
    },
    {
     "name": "stdout",
     "output_type": "stream",
     "text": [
      "\n"
     ]
    },
    {
     "data": {
      "application/vnd.jupyter.widget-view+json": {
       "model_id": "892ff4416ab64bc7ae10cd5e3ec5ba44",
       "version_major": 2,
       "version_minor": 0
      },
      "text/plain": [
       "HBox(children=(FloatProgress(value=0.0, description='interactions [continuous]', max=196.0, style=ProgressStyl…"
      ]
     },
     "metadata": {},
     "output_type": "display_data"
    },
    {
     "name": "stdout",
     "output_type": "stream",
     "text": [
      "\n"
     ]
    },
    {
     "data": {
      "application/vnd.jupyter.widget-view+json": {
       "model_id": "40818e720fd54a97a275cadddea67c20",
       "version_major": 2,
       "version_minor": 0
      },
      "text/plain": [
       "HBox(children=(FloatProgress(value=0.0, description='table', max=1.0, style=ProgressStyle(description_width='i…"
      ]
     },
     "metadata": {},
     "output_type": "display_data"
    },
    {
     "name": "stdout",
     "output_type": "stream",
     "text": [
      "\n"
     ]
    },
    {
     "data": {
      "application/vnd.jupyter.widget-view+json": {
       "model_id": "1b2081d305604460b9016a715827f032",
       "version_major": 2,
       "version_minor": 0
      },
      "text/plain": [
       "HBox(children=(FloatProgress(value=0.0, description='missing', max=4.0, style=ProgressStyle(description_width=…"
      ]
     },
     "metadata": {},
     "output_type": "display_data"
    },
    {
     "name": "stdout",
     "output_type": "stream",
     "text": [
      "\n"
     ]
    },
    {
     "data": {
      "application/vnd.jupyter.widget-view+json": {
       "model_id": "79741c0a9f3946d396ed138e821cbfb3",
       "version_major": 2,
       "version_minor": 0
      },
      "text/plain": [
       "HBox(children=(FloatProgress(value=0.0, description='warnings', max=3.0, style=ProgressStyle(description_width…"
      ]
     },
     "metadata": {},
     "output_type": "display_data"
    },
    {
     "name": "stdout",
     "output_type": "stream",
     "text": [
      "\n"
     ]
    },
    {
     "data": {
      "application/vnd.jupyter.widget-view+json": {
       "model_id": "0535cc5e60e5401ab27787c62428ada5",
       "version_major": 2,
       "version_minor": 0
      },
      "text/plain": [
       "HBox(children=(FloatProgress(value=0.0, description='package', max=1.0, style=ProgressStyle(description_width=…"
      ]
     },
     "metadata": {},
     "output_type": "display_data"
    },
    {
     "name": "stdout",
     "output_type": "stream",
     "text": [
      "\n"
     ]
    },
    {
     "data": {
      "application/vnd.jupyter.widget-view+json": {
       "model_id": "6b19e696881645309e343d68c8d9e926",
       "version_major": 2,
       "version_minor": 0
      },
      "text/plain": [
       "HBox(children=(FloatProgress(value=0.0, description='build report structure', max=1.0, style=ProgressStyle(des…"
      ]
     },
     "metadata": {},
     "output_type": "display_data"
    },
    {
     "name": "stdout",
     "output_type": "stream",
     "text": [
      "\n"
     ]
    }
   ],
   "source": [
    "profile = ProfileReport(df_clinical, title='Pandas Profiling Report', html={'style':{'full_width':True}})"
   ]
  },
  {
   "cell_type": "code",
   "execution_count": 5,
   "metadata": {},
   "outputs": [
    {
     "data": {
      "application/vnd.jupyter.widget-view+json": {
       "model_id": "1fa4051850e1491583da6f6cb9027552",
       "version_major": 2,
       "version_minor": 0
      },
      "text/plain": [
       "Tab(children=(Tab(children=(GridBox(children=(VBox(children=(GridspecLayout(children=(HTML(value='Number of va…"
      ]
     },
     "metadata": {},
     "output_type": "display_data"
    },
    {
     "data": {
      "text/html": [
       "Report generated with <a href=\"https://github.com/pandas-profiling/pandas-profiling\">pandas-profiling</a>."
      ],
      "text/plain": [
       "<IPython.core.display.HTML object>"
      ]
     },
     "metadata": {},
     "output_type": "display_data"
    }
   ],
   "source": [
    "profile.to_widgets()"
   ]
  },
  {
   "cell_type": "markdown",
   "metadata": {},
   "source": [
    "### b) Identicar qual a variáveis parecem influenciar no óbito dos pacientes :(\n",
    "- Utilize o código `feature_selection_framework` https://github.com/navarmn/feature_selection_framework \n",
    "- Monte o resultado em um `DataFrame`, as colunas serão referentes aos métodos e as linhas deverão ser os atributos. Coloque 1 quando o método indicar como relevante e 0 quando o método indicar com não relevante;\n",
    "- Utilize o seguinte critério para validar um atributo como relevante: moda >= 3"
   ]
  },
  {
   "cell_type": "code",
   "execution_count": 14,
   "metadata": {},
   "outputs": [
    {
     "name": "stdout",
     "output_type": "stream",
     "text": [
      "Cloning into 'feature_selection_framework'...\n",
      "remote: Enumerating objects: 12, done.\u001b[K\n",
      "remote: Counting objects: 100% (12/12), done.\u001b[K\n",
      "remote: Compressing objects: 100% (9/9), done.\u001b[K\n",
      "remote: Total 12 (delta 1), reused 5 (delta 0), pack-reused 0\u001b[K\n",
      "Unpacking objects: 100% (12/12), done.\n"
     ]
    }
   ],
   "source": [
    "!git clone https://github.com/navarmn/feature_selection_framework.git"
   ]
  },
  {
   "cell_type": "code",
   "execution_count": 20,
   "metadata": {},
   "outputs": [],
   "source": [
    "from feature_selection_framework.src import feature_selection"
   ]
  },
  {
   "cell_type": "code",
   "execution_count": 53,
   "metadata": {},
   "outputs": [],
   "source": [
    "correlacao = feature_selection.Correlation()"
   ]
  },
  {
   "cell_type": "code",
   "execution_count": 59,
   "metadata": {},
   "outputs": [
    {
     "name": "stdout",
     "output_type": "stream",
     "text": [
      "None\n"
     ]
    }
   ],
   "source": [
    "print(correlacao.fit(df_clinical.Obito, df_clinical.AVC))"
   ]
  },
  {
   "cell_type": "markdown",
   "metadata": {},
   "source": [
    "## 2. QUESTÃO DESAFIO\n",
    "- Essa etapa não entrará com atividade avaliativa, pois a base de dados a seguir não é tão bonita quanto parece 🤪. Há muitas etapas de pré-processamento, agrupmaento e mais importante de tudo, o usuário tem que fazer as duas tabelas `weekly-infos-before-shrink.csv` e `user-status-after-shrink.csv` conversarem entre si.\n",
    "- Fique à vontade para tentar e para tirar dúvidas. 😊"
   ]
  },
  {
   "cell_type": "markdown",
   "metadata": {},
   "source": [
    "Nesse momento utilize a base de dados `weekly-infos-before-shrink.csv` e `user-status-after-shrink.csv`. Uma breve descrição da base:\n",
    "- Essa base foi retirada de um serviço de streaming de midia. Os atributos são relativos a perfis de consumo de usuários.\n",
    "- O objetivo é realizar detecção de *churn* (https://resultadosdigitais.com.br/blog/o-que-e-churn/)\n",
    "- Possui um registro de 17 semanas de uso e os rótulos estáo na tabela `user-status-after-shrink.csv`, que indicam se ao final do período o usuário cancelou e se manteve assinante."
   ]
  },
  {
   "cell_type": "code",
   "execution_count": 8,
   "metadata": {},
   "outputs": [],
   "source": [
    "# code here"
   ]
  },
  {
   "cell_type": "markdown",
   "metadata": {},
   "source": [
    "### a) Análise exploratória na base de dados\n",
    "- Use a ferramenta `pandas-profiling` https://github.com/pandas-profiling/pandas-profiling\n",
    "- Faça um resumo do relatório, destacando os principais pontos gerados na base.\n",
    "> Exiba a matriz de correlação!"
   ]
  },
  {
   "cell_type": "code",
   "execution_count": 9,
   "metadata": {},
   "outputs": [],
   "source": [
    "# code here"
   ]
  },
  {
   "cell_type": "markdown",
   "metadata": {},
   "source": [
    "### b) Identicar qual a variáveis parecem influenciar no cancelamento da assinatura.\n",
    "\n",
    "- Utilize o código `feature_selection_framework` https://github.com/navarmn/feature_selection_framework \n",
    "- Monte o resultado em um `DataFrame`, as colunas serão referentes aos métodos e as linhas deverão ser os atributos. Coloque 1 quando o método indicar como relevante e 0 quando o método indicar com não relevante;\n",
    "- Utilize o seguinte critério para validar um atributo como relevante: moda >= 3"
   ]
  },
  {
   "cell_type": "code",
   "execution_count": 10,
   "metadata": {},
   "outputs": [],
   "source": [
    "# code here"
   ]
  }
 ],
 "metadata": {
  "kernelspec": {
   "display_name": "Python data science",
   "language": "python",
   "name": "python-data-science"
  },
  "language_info": {
   "codemirror_mode": {
    "name": "ipython",
    "version": 3
   },
   "file_extension": ".py",
   "mimetype": "text/x-python",
   "name": "python",
   "nbconvert_exporter": "python",
   "pygments_lexer": "ipython3",
   "version": "3.6.9"
  }
 },
 "nbformat": 4,
 "nbformat_minor": 4
}
